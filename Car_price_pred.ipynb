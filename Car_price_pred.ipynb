{
 "cells": [
  {
   "cell_type": "markdown",
   "metadata": {
    "toc": true
   },
   "source": [
    "<h1>Table of Contents<span class=\"tocSkip\"></span></h1>\n",
    "<div class=\"toc\"><ul class=\"toc-item\"><li><span><a href=\"#1.-Подготовка-данных\" data-toc-modified-id=\"1.-Подготовка-данных-1\">1. Подготовка данных</a></span><ul class=\"toc-item\"><li><span><a href=\"#Вывод\" data-toc-modified-id=\"Вывод-1.1\">Вывод</a></span></li></ul></li><li><span><a href=\"#2.-Анализ-и-обработка-данных\" data-toc-modified-id=\"2.-Анализ-и-обработка-данных-2\">2. Анализ и обработка данных</a></span><ul class=\"toc-item\"><li><span><a href=\"#2.1-Пропуски\" data-toc-modified-id=\"2.1-Пропуски-2.1\">2.1 Пропуски</a></span></li><li><span><a href=\"#2.2-Анализ-данных\" data-toc-modified-id=\"2.2-Анализ-данных-2.2\">2.2 Анализ данных</a></span></li><li><span><a href=\"#2.3-Корреляция\" data-toc-modified-id=\"2.3-Корреляция-2.3\">2.3 Корреляция</a></span></li></ul></li><li><span><a href=\"#3.-Обучение-моделей\" data-toc-modified-id=\"3.-Обучение-моделей-3\">3. Обучение моделей</a></span><ul class=\"toc-item\"><li><span><a href=\"#3.1-Разделение-и-кодирование-выборок\" data-toc-modified-id=\"3.1-Разделение-и-кодирование-выборок-3.1\">3.1 Разделение и кодирование выборок</a></span></li><li><span><a href=\"#3.2-LightGBM\" data-toc-modified-id=\"3.2-LightGBM-3.2\">3.2 LightGBM</a></span></li><li><span><a href=\"#3.3-Catboost\" data-toc-modified-id=\"3.3-Catboost-3.3\">3.3 Catboost</a></span></li><li><span><a href=\"#3.4-Simpleboost-(ohe)\" data-toc-modified-id=\"3.4-Simpleboost-(ohe)-3.4\">3.4 Simpleboost (ohe)</a></span></li><li><span><a href=\"#3.5-RandomForest-(ohe)\" data-toc-modified-id=\"3.5-RandomForest-(ohe)-3.5\">3.5 RandomForest (ohe)</a></span></li><li><span><a href=\"#3.6-Simpleboost-(oe)\" data-toc-modified-id=\"3.6-Simpleboost-(oe)-3.6\">3.6 Simpleboost (oe)</a></span></li><li><span><a href=\"#3.7-RandomForest-(oe)\" data-toc-modified-id=\"3.7-RandomForest-(oe)-3.7\">3.7 RandomForest (oe)</a></span></li><li><span><a href=\"#3.8-ohe-vs-oe\" data-toc-modified-id=\"3.8-ohe-vs-oe-3.8\">3.8 ohe vs oe</a></span></li></ul></li><li><span><a href=\"#4.-Анализ-моделей\" data-toc-modified-id=\"4.-Анализ-моделей-4\">4. Анализ моделей</a></span></li></ul></div>"
   ]
  },
  {
   "cell_type": "markdown",
   "metadata": {},
   "source": [
    "# Определение стоимости автомобилей"
   ]
  },
  {
   "cell_type": "markdown",
   "metadata": {},
   "source": [
    "Сервис по продаже автомобилей с пробегом разрабатывает приложение для привлечения новых клиентов. В нём можно быстро узнать рыночную стоимость своего автомобиля. В вашем распоряжении исторические данные: технические характеристики, комплектации и цены автомобилей. Вам нужно построить модель для определения стоимости. \n",
    "\n",
    "Заказчику важны:\n",
    "\n",
    "- качество предсказания;\n",
    "- скорость предсказания;\n",
    "- время обучения."
   ]
  },
  {
   "cell_type": "markdown",
   "metadata": {},
   "source": [
    "***\n",
    "**Цель и задачи**\n",
    "\n",
    "Необходимо построить модель для определения стоимости.\n",
    "* Обучить разные модели. Для каждой попробовать различные гиперпараметры. (+ анализ скорости работы и качества моделей)\n",
    "* Для оценки качества моделей применяем метрику `RMSE`.\n",
    "* Значение метрики `RMSE` должно быть меньше `2500`.\n",
    "* Изменять у модели только два-три параметра.\n",
    "\n",
    "**Доп. задача:**\n",
    "* Сравнить прямое и порядковое кодирование переменных\n",
    "\n",
    "***\n",
    "**Описание данных**\n",
    "\n",
    "Признаки:\n",
    "* `DateCrawled` — дата скачивания анкеты из базы\n",
    "* `VehicleType` — тип автомобильного кузова\n",
    "* `RegistrationYear` — год регистрации автомобиля\n",
    "* `Gearbox` — тип коробки передач\n",
    "* `Power` — мощность (л. с.)\n",
    "* `Model` — модель автомобиля\n",
    "* `Kilometer` — пробег (км)\n",
    "* `RegistrationMonth` — месяц регистрации автомобиля\n",
    "* `FuelType` — тип топлива\n",
    "* `Brand` — марка автомобиля\n",
    "* `NotRepaired` — была машина в ремонте или нет\n",
    "* `DateCreated` — дата создания анкеты\n",
    "* `NumberOfPictures` — количество фотографий автомобиля\n",
    "* `PostalCode` — почтовый индекс владельца анкеты (пользователя)\n",
    "* `LastSeen` — дата последней активности пользователя\n",
    "\n",
    "Целевой признак:\n",
    "* `Price` — цена (евро)"
   ]
  },
  {
   "cell_type": "markdown",
   "metadata": {},
   "source": [
    "## 1. Подготовка данных"
   ]
  },
  {
   "cell_type": "code",
   "execution_count": 1,
   "metadata": {},
   "outputs": [],
   "source": [
    "import pandas as pd \n",
    "import numpy as np \n",
    "import matplotlib.pyplot as plt\n",
    "import seaborn as sns\n",
    "\n",
    "from sklearn.ensemble import RandomForestRegressor\n",
    "from sklearn.metrics import mean_squared_error as mse \n",
    "from sklearn.model_selection import train_test_split, GridSearchCV\n",
    "from sklearn.tree import DecisionTreeRegressor\n",
    "from tqdm import trange\n",
    "\n",
    "from catboost import CatBoostRegressor \n",
    "from lightgbm import LGBMRegressor\n",
    "\n",
    "import warnings\n",
    "warnings.filterwarnings(\"ignore\")\n",
    "\n",
    "RND = 2102"
   ]
  },
  {
   "cell_type": "code",
   "execution_count": 2,
   "metadata": {},
   "outputs": [],
   "source": [
    "try:\n",
    "    df = pd.read_csv('/datasets/autos.csv')\n",
    "except:\n",
    "    df = pd.read_csv('./data/autos.csv')"
   ]
  },
  {
   "cell_type": "code",
   "execution_count": 3,
   "metadata": {},
   "outputs": [],
   "source": [
    "def first_check(df):\n",
    "    print(df.info())\n",
    "    print(f'Shape: {df.shape}')\n",
    "    display(df.head())\n",
    "    print(f'Количество дубликатов: {df.duplicated().sum()}')\n",
    "    display(df.describe())\n",
    "    display(df.describe(include=['object', 'bool']))\n",
    "    \n",
    "    df_na = df.isna().sum().sort_values(ascending=False).reset_index()\n",
    "    df_na['% nan'] = df_na[0] / df.shape[0] * 100\n",
    "    df_na.rename(columns = {'index': 'column in df', 0 : 'amount nan'}, inplace = True)\n",
    "    display(df_na)"
   ]
  },
  {
   "cell_type": "code",
   "execution_count": 4,
   "metadata": {},
   "outputs": [
    {
     "name": "stdout",
     "output_type": "stream",
     "text": [
      "<class 'pandas.core.frame.DataFrame'>\n",
      "RangeIndex: 354369 entries, 0 to 354368\n",
      "Data columns (total 16 columns):\n",
      " #   Column             Non-Null Count   Dtype \n",
      "---  ------             --------------   ----- \n",
      " 0   DateCrawled        354369 non-null  object\n",
      " 1   Price              354369 non-null  int64 \n",
      " 2   VehicleType        316879 non-null  object\n",
      " 3   RegistrationYear   354369 non-null  int64 \n",
      " 4   Gearbox            334536 non-null  object\n",
      " 5   Power              354369 non-null  int64 \n",
      " 6   Model              334664 non-null  object\n",
      " 7   Kilometer          354369 non-null  int64 \n",
      " 8   RegistrationMonth  354369 non-null  int64 \n",
      " 9   FuelType           321474 non-null  object\n",
      " 10  Brand              354369 non-null  object\n",
      " 11  NotRepaired        283215 non-null  object\n",
      " 12  DateCreated        354369 non-null  object\n",
      " 13  NumberOfPictures   354369 non-null  int64 \n",
      " 14  PostalCode         354369 non-null  int64 \n",
      " 15  LastSeen           354369 non-null  object\n",
      "dtypes: int64(7), object(9)\n",
      "memory usage: 43.3+ MB\n",
      "None\n",
      "Shape: (354369, 16)\n"
     ]
    },
    {
     "data": {
      "text/html": [
       "<div>\n",
       "<style scoped>\n",
       "    .dataframe tbody tr th:only-of-type {\n",
       "        vertical-align: middle;\n",
       "    }\n",
       "\n",
       "    .dataframe tbody tr th {\n",
       "        vertical-align: top;\n",
       "    }\n",
       "\n",
       "    .dataframe thead th {\n",
       "        text-align: right;\n",
       "    }\n",
       "</style>\n",
       "<table border=\"1\" class=\"dataframe\">\n",
       "  <thead>\n",
       "    <tr style=\"text-align: right;\">\n",
       "      <th></th>\n",
       "      <th>DateCrawled</th>\n",
       "      <th>Price</th>\n",
       "      <th>VehicleType</th>\n",
       "      <th>RegistrationYear</th>\n",
       "      <th>Gearbox</th>\n",
       "      <th>Power</th>\n",
       "      <th>Model</th>\n",
       "      <th>Kilometer</th>\n",
       "      <th>RegistrationMonth</th>\n",
       "      <th>FuelType</th>\n",
       "      <th>Brand</th>\n",
       "      <th>NotRepaired</th>\n",
       "      <th>DateCreated</th>\n",
       "      <th>NumberOfPictures</th>\n",
       "      <th>PostalCode</th>\n",
       "      <th>LastSeen</th>\n",
       "    </tr>\n",
       "  </thead>\n",
       "  <tbody>\n",
       "    <tr>\n",
       "      <th>0</th>\n",
       "      <td>2016-03-24 11:52:17</td>\n",
       "      <td>480</td>\n",
       "      <td>NaN</td>\n",
       "      <td>1993</td>\n",
       "      <td>manual</td>\n",
       "      <td>0</td>\n",
       "      <td>golf</td>\n",
       "      <td>150000</td>\n",
       "      <td>0</td>\n",
       "      <td>petrol</td>\n",
       "      <td>volkswagen</td>\n",
       "      <td>NaN</td>\n",
       "      <td>2016-03-24 00:00:00</td>\n",
       "      <td>0</td>\n",
       "      <td>70435</td>\n",
       "      <td>2016-04-07 03:16:57</td>\n",
       "    </tr>\n",
       "    <tr>\n",
       "      <th>1</th>\n",
       "      <td>2016-03-24 10:58:45</td>\n",
       "      <td>18300</td>\n",
       "      <td>coupe</td>\n",
       "      <td>2011</td>\n",
       "      <td>manual</td>\n",
       "      <td>190</td>\n",
       "      <td>NaN</td>\n",
       "      <td>125000</td>\n",
       "      <td>5</td>\n",
       "      <td>gasoline</td>\n",
       "      <td>audi</td>\n",
       "      <td>yes</td>\n",
       "      <td>2016-03-24 00:00:00</td>\n",
       "      <td>0</td>\n",
       "      <td>66954</td>\n",
       "      <td>2016-04-07 01:46:50</td>\n",
       "    </tr>\n",
       "    <tr>\n",
       "      <th>2</th>\n",
       "      <td>2016-03-14 12:52:21</td>\n",
       "      <td>9800</td>\n",
       "      <td>suv</td>\n",
       "      <td>2004</td>\n",
       "      <td>auto</td>\n",
       "      <td>163</td>\n",
       "      <td>grand</td>\n",
       "      <td>125000</td>\n",
       "      <td>8</td>\n",
       "      <td>gasoline</td>\n",
       "      <td>jeep</td>\n",
       "      <td>NaN</td>\n",
       "      <td>2016-03-14 00:00:00</td>\n",
       "      <td>0</td>\n",
       "      <td>90480</td>\n",
       "      <td>2016-04-05 12:47:46</td>\n",
       "    </tr>\n",
       "    <tr>\n",
       "      <th>3</th>\n",
       "      <td>2016-03-17 16:54:04</td>\n",
       "      <td>1500</td>\n",
       "      <td>small</td>\n",
       "      <td>2001</td>\n",
       "      <td>manual</td>\n",
       "      <td>75</td>\n",
       "      <td>golf</td>\n",
       "      <td>150000</td>\n",
       "      <td>6</td>\n",
       "      <td>petrol</td>\n",
       "      <td>volkswagen</td>\n",
       "      <td>no</td>\n",
       "      <td>2016-03-17 00:00:00</td>\n",
       "      <td>0</td>\n",
       "      <td>91074</td>\n",
       "      <td>2016-03-17 17:40:17</td>\n",
       "    </tr>\n",
       "    <tr>\n",
       "      <th>4</th>\n",
       "      <td>2016-03-31 17:25:20</td>\n",
       "      <td>3600</td>\n",
       "      <td>small</td>\n",
       "      <td>2008</td>\n",
       "      <td>manual</td>\n",
       "      <td>69</td>\n",
       "      <td>fabia</td>\n",
       "      <td>90000</td>\n",
       "      <td>7</td>\n",
       "      <td>gasoline</td>\n",
       "      <td>skoda</td>\n",
       "      <td>no</td>\n",
       "      <td>2016-03-31 00:00:00</td>\n",
       "      <td>0</td>\n",
       "      <td>60437</td>\n",
       "      <td>2016-04-06 10:17:21</td>\n",
       "    </tr>\n",
       "  </tbody>\n",
       "</table>\n",
       "</div>"
      ],
      "text/plain": [
       "           DateCrawled  Price VehicleType  RegistrationYear Gearbox  Power  \\\n",
       "0  2016-03-24 11:52:17    480         NaN              1993  manual      0   \n",
       "1  2016-03-24 10:58:45  18300       coupe              2011  manual    190   \n",
       "2  2016-03-14 12:52:21   9800         suv              2004    auto    163   \n",
       "3  2016-03-17 16:54:04   1500       small              2001  manual     75   \n",
       "4  2016-03-31 17:25:20   3600       small              2008  manual     69   \n",
       "\n",
       "   Model  Kilometer  RegistrationMonth  FuelType       Brand NotRepaired  \\\n",
       "0   golf     150000                  0    petrol  volkswagen         NaN   \n",
       "1    NaN     125000                  5  gasoline        audi         yes   \n",
       "2  grand     125000                  8  gasoline        jeep         NaN   \n",
       "3   golf     150000                  6    petrol  volkswagen          no   \n",
       "4  fabia      90000                  7  gasoline       skoda          no   \n",
       "\n",
       "           DateCreated  NumberOfPictures  PostalCode             LastSeen  \n",
       "0  2016-03-24 00:00:00                 0       70435  2016-04-07 03:16:57  \n",
       "1  2016-03-24 00:00:00                 0       66954  2016-04-07 01:46:50  \n",
       "2  2016-03-14 00:00:00                 0       90480  2016-04-05 12:47:46  \n",
       "3  2016-03-17 00:00:00                 0       91074  2016-03-17 17:40:17  \n",
       "4  2016-03-31 00:00:00                 0       60437  2016-04-06 10:17:21  "
      ]
     },
     "metadata": {},
     "output_type": "display_data"
    },
    {
     "name": "stdout",
     "output_type": "stream",
     "text": [
      "Количество дубликатов: 4\n"
     ]
    },
    {
     "data": {
      "text/html": [
       "<div>\n",
       "<style scoped>\n",
       "    .dataframe tbody tr th:only-of-type {\n",
       "        vertical-align: middle;\n",
       "    }\n",
       "\n",
       "    .dataframe tbody tr th {\n",
       "        vertical-align: top;\n",
       "    }\n",
       "\n",
       "    .dataframe thead th {\n",
       "        text-align: right;\n",
       "    }\n",
       "</style>\n",
       "<table border=\"1\" class=\"dataframe\">\n",
       "  <thead>\n",
       "    <tr style=\"text-align: right;\">\n",
       "      <th></th>\n",
       "      <th>Price</th>\n",
       "      <th>RegistrationYear</th>\n",
       "      <th>Power</th>\n",
       "      <th>Kilometer</th>\n",
       "      <th>RegistrationMonth</th>\n",
       "      <th>NumberOfPictures</th>\n",
       "      <th>PostalCode</th>\n",
       "    </tr>\n",
       "  </thead>\n",
       "  <tbody>\n",
       "    <tr>\n",
       "      <th>count</th>\n",
       "      <td>354369.000000</td>\n",
       "      <td>354369.000000</td>\n",
       "      <td>354369.000000</td>\n",
       "      <td>354369.000000</td>\n",
       "      <td>354369.000000</td>\n",
       "      <td>354369.0</td>\n",
       "      <td>354369.000000</td>\n",
       "    </tr>\n",
       "    <tr>\n",
       "      <th>mean</th>\n",
       "      <td>4416.656776</td>\n",
       "      <td>2004.234448</td>\n",
       "      <td>110.094337</td>\n",
       "      <td>128211.172535</td>\n",
       "      <td>5.714645</td>\n",
       "      <td>0.0</td>\n",
       "      <td>50508.689087</td>\n",
       "    </tr>\n",
       "    <tr>\n",
       "      <th>std</th>\n",
       "      <td>4514.158514</td>\n",
       "      <td>90.227958</td>\n",
       "      <td>189.850405</td>\n",
       "      <td>37905.341530</td>\n",
       "      <td>3.726421</td>\n",
       "      <td>0.0</td>\n",
       "      <td>25783.096248</td>\n",
       "    </tr>\n",
       "    <tr>\n",
       "      <th>min</th>\n",
       "      <td>0.000000</td>\n",
       "      <td>1000.000000</td>\n",
       "      <td>0.000000</td>\n",
       "      <td>5000.000000</td>\n",
       "      <td>0.000000</td>\n",
       "      <td>0.0</td>\n",
       "      <td>1067.000000</td>\n",
       "    </tr>\n",
       "    <tr>\n",
       "      <th>25%</th>\n",
       "      <td>1050.000000</td>\n",
       "      <td>1999.000000</td>\n",
       "      <td>69.000000</td>\n",
       "      <td>125000.000000</td>\n",
       "      <td>3.000000</td>\n",
       "      <td>0.0</td>\n",
       "      <td>30165.000000</td>\n",
       "    </tr>\n",
       "    <tr>\n",
       "      <th>50%</th>\n",
       "      <td>2700.000000</td>\n",
       "      <td>2003.000000</td>\n",
       "      <td>105.000000</td>\n",
       "      <td>150000.000000</td>\n",
       "      <td>6.000000</td>\n",
       "      <td>0.0</td>\n",
       "      <td>49413.000000</td>\n",
       "    </tr>\n",
       "    <tr>\n",
       "      <th>75%</th>\n",
       "      <td>6400.000000</td>\n",
       "      <td>2008.000000</td>\n",
       "      <td>143.000000</td>\n",
       "      <td>150000.000000</td>\n",
       "      <td>9.000000</td>\n",
       "      <td>0.0</td>\n",
       "      <td>71083.000000</td>\n",
       "    </tr>\n",
       "    <tr>\n",
       "      <th>max</th>\n",
       "      <td>20000.000000</td>\n",
       "      <td>9999.000000</td>\n",
       "      <td>20000.000000</td>\n",
       "      <td>150000.000000</td>\n",
       "      <td>12.000000</td>\n",
       "      <td>0.0</td>\n",
       "      <td>99998.000000</td>\n",
       "    </tr>\n",
       "  </tbody>\n",
       "</table>\n",
       "</div>"
      ],
      "text/plain": [
       "               Price  RegistrationYear          Power      Kilometer  \\\n",
       "count  354369.000000     354369.000000  354369.000000  354369.000000   \n",
       "mean     4416.656776       2004.234448     110.094337  128211.172535   \n",
       "std      4514.158514         90.227958     189.850405   37905.341530   \n",
       "min         0.000000       1000.000000       0.000000    5000.000000   \n",
       "25%      1050.000000       1999.000000      69.000000  125000.000000   \n",
       "50%      2700.000000       2003.000000     105.000000  150000.000000   \n",
       "75%      6400.000000       2008.000000     143.000000  150000.000000   \n",
       "max     20000.000000       9999.000000   20000.000000  150000.000000   \n",
       "\n",
       "       RegistrationMonth  NumberOfPictures     PostalCode  \n",
       "count      354369.000000          354369.0  354369.000000  \n",
       "mean            5.714645               0.0   50508.689087  \n",
       "std             3.726421               0.0   25783.096248  \n",
       "min             0.000000               0.0    1067.000000  \n",
       "25%             3.000000               0.0   30165.000000  \n",
       "50%             6.000000               0.0   49413.000000  \n",
       "75%             9.000000               0.0   71083.000000  \n",
       "max            12.000000               0.0   99998.000000  "
      ]
     },
     "metadata": {},
     "output_type": "display_data"
    },
    {
     "data": {
      "text/html": [
       "<div>\n",
       "<style scoped>\n",
       "    .dataframe tbody tr th:only-of-type {\n",
       "        vertical-align: middle;\n",
       "    }\n",
       "\n",
       "    .dataframe tbody tr th {\n",
       "        vertical-align: top;\n",
       "    }\n",
       "\n",
       "    .dataframe thead th {\n",
       "        text-align: right;\n",
       "    }\n",
       "</style>\n",
       "<table border=\"1\" class=\"dataframe\">\n",
       "  <thead>\n",
       "    <tr style=\"text-align: right;\">\n",
       "      <th></th>\n",
       "      <th>DateCrawled</th>\n",
       "      <th>VehicleType</th>\n",
       "      <th>Gearbox</th>\n",
       "      <th>Model</th>\n",
       "      <th>FuelType</th>\n",
       "      <th>Brand</th>\n",
       "      <th>NotRepaired</th>\n",
       "      <th>DateCreated</th>\n",
       "      <th>LastSeen</th>\n",
       "    </tr>\n",
       "  </thead>\n",
       "  <tbody>\n",
       "    <tr>\n",
       "      <th>count</th>\n",
       "      <td>354369</td>\n",
       "      <td>316879</td>\n",
       "      <td>334536</td>\n",
       "      <td>334664</td>\n",
       "      <td>321474</td>\n",
       "      <td>354369</td>\n",
       "      <td>283215</td>\n",
       "      <td>354369</td>\n",
       "      <td>354369</td>\n",
       "    </tr>\n",
       "    <tr>\n",
       "      <th>unique</th>\n",
       "      <td>271174</td>\n",
       "      <td>8</td>\n",
       "      <td>2</td>\n",
       "      <td>250</td>\n",
       "      <td>7</td>\n",
       "      <td>40</td>\n",
       "      <td>2</td>\n",
       "      <td>109</td>\n",
       "      <td>179150</td>\n",
       "    </tr>\n",
       "    <tr>\n",
       "      <th>top</th>\n",
       "      <td>2016-03-24 14:49:47</td>\n",
       "      <td>sedan</td>\n",
       "      <td>manual</td>\n",
       "      <td>golf</td>\n",
       "      <td>petrol</td>\n",
       "      <td>volkswagen</td>\n",
       "      <td>no</td>\n",
       "      <td>2016-04-03 00:00:00</td>\n",
       "      <td>2016-04-06 13:45:54</td>\n",
       "    </tr>\n",
       "    <tr>\n",
       "      <th>freq</th>\n",
       "      <td>7</td>\n",
       "      <td>91457</td>\n",
       "      <td>268251</td>\n",
       "      <td>29232</td>\n",
       "      <td>216352</td>\n",
       "      <td>77013</td>\n",
       "      <td>247161</td>\n",
       "      <td>13719</td>\n",
       "      <td>17</td>\n",
       "    </tr>\n",
       "  </tbody>\n",
       "</table>\n",
       "</div>"
      ],
      "text/plain": [
       "                DateCrawled VehicleType Gearbox   Model FuelType       Brand  \\\n",
       "count                354369      316879  334536  334664   321474      354369   \n",
       "unique               271174           8       2     250        7          40   \n",
       "top     2016-03-24 14:49:47       sedan  manual    golf   petrol  volkswagen   \n",
       "freq                      7       91457  268251   29232   216352       77013   \n",
       "\n",
       "       NotRepaired          DateCreated             LastSeen  \n",
       "count       283215               354369               354369  \n",
       "unique           2                  109               179150  \n",
       "top             no  2016-04-03 00:00:00  2016-04-06 13:45:54  \n",
       "freq        247161                13719                   17  "
      ]
     },
     "metadata": {},
     "output_type": "display_data"
    },
    {
     "data": {
      "text/html": [
       "<div>\n",
       "<style scoped>\n",
       "    .dataframe tbody tr th:only-of-type {\n",
       "        vertical-align: middle;\n",
       "    }\n",
       "\n",
       "    .dataframe tbody tr th {\n",
       "        vertical-align: top;\n",
       "    }\n",
       "\n",
       "    .dataframe thead th {\n",
       "        text-align: right;\n",
       "    }\n",
       "</style>\n",
       "<table border=\"1\" class=\"dataframe\">\n",
       "  <thead>\n",
       "    <tr style=\"text-align: right;\">\n",
       "      <th></th>\n",
       "      <th>column in df</th>\n",
       "      <th>amount nan</th>\n",
       "      <th>% nan</th>\n",
       "    </tr>\n",
       "  </thead>\n",
       "  <tbody>\n",
       "    <tr>\n",
       "      <th>0</th>\n",
       "      <td>NotRepaired</td>\n",
       "      <td>71154</td>\n",
       "      <td>20.079070</td>\n",
       "    </tr>\n",
       "    <tr>\n",
       "      <th>1</th>\n",
       "      <td>VehicleType</td>\n",
       "      <td>37490</td>\n",
       "      <td>10.579368</td>\n",
       "    </tr>\n",
       "    <tr>\n",
       "      <th>2</th>\n",
       "      <td>FuelType</td>\n",
       "      <td>32895</td>\n",
       "      <td>9.282697</td>\n",
       "    </tr>\n",
       "    <tr>\n",
       "      <th>3</th>\n",
       "      <td>Gearbox</td>\n",
       "      <td>19833</td>\n",
       "      <td>5.596709</td>\n",
       "    </tr>\n",
       "    <tr>\n",
       "      <th>4</th>\n",
       "      <td>Model</td>\n",
       "      <td>19705</td>\n",
       "      <td>5.560588</td>\n",
       "    </tr>\n",
       "    <tr>\n",
       "      <th>5</th>\n",
       "      <td>DateCrawled</td>\n",
       "      <td>0</td>\n",
       "      <td>0.000000</td>\n",
       "    </tr>\n",
       "    <tr>\n",
       "      <th>6</th>\n",
       "      <td>Price</td>\n",
       "      <td>0</td>\n",
       "      <td>0.000000</td>\n",
       "    </tr>\n",
       "    <tr>\n",
       "      <th>7</th>\n",
       "      <td>RegistrationYear</td>\n",
       "      <td>0</td>\n",
       "      <td>0.000000</td>\n",
       "    </tr>\n",
       "    <tr>\n",
       "      <th>8</th>\n",
       "      <td>Power</td>\n",
       "      <td>0</td>\n",
       "      <td>0.000000</td>\n",
       "    </tr>\n",
       "    <tr>\n",
       "      <th>9</th>\n",
       "      <td>Kilometer</td>\n",
       "      <td>0</td>\n",
       "      <td>0.000000</td>\n",
       "    </tr>\n",
       "    <tr>\n",
       "      <th>10</th>\n",
       "      <td>RegistrationMonth</td>\n",
       "      <td>0</td>\n",
       "      <td>0.000000</td>\n",
       "    </tr>\n",
       "    <tr>\n",
       "      <th>11</th>\n",
       "      <td>Brand</td>\n",
       "      <td>0</td>\n",
       "      <td>0.000000</td>\n",
       "    </tr>\n",
       "    <tr>\n",
       "      <th>12</th>\n",
       "      <td>DateCreated</td>\n",
       "      <td>0</td>\n",
       "      <td>0.000000</td>\n",
       "    </tr>\n",
       "    <tr>\n",
       "      <th>13</th>\n",
       "      <td>NumberOfPictures</td>\n",
       "      <td>0</td>\n",
       "      <td>0.000000</td>\n",
       "    </tr>\n",
       "    <tr>\n",
       "      <th>14</th>\n",
       "      <td>PostalCode</td>\n",
       "      <td>0</td>\n",
       "      <td>0.000000</td>\n",
       "    </tr>\n",
       "    <tr>\n",
       "      <th>15</th>\n",
       "      <td>LastSeen</td>\n",
       "      <td>0</td>\n",
       "      <td>0.000000</td>\n",
       "    </tr>\n",
       "  </tbody>\n",
       "</table>\n",
       "</div>"
      ],
      "text/plain": [
       "         column in df  amount nan      % nan\n",
       "0         NotRepaired       71154  20.079070\n",
       "1         VehicleType       37490  10.579368\n",
       "2            FuelType       32895   9.282697\n",
       "3             Gearbox       19833   5.596709\n",
       "4               Model       19705   5.560588\n",
       "5         DateCrawled           0   0.000000\n",
       "6               Price           0   0.000000\n",
       "7    RegistrationYear           0   0.000000\n",
       "8               Power           0   0.000000\n",
       "9           Kilometer           0   0.000000\n",
       "10  RegistrationMonth           0   0.000000\n",
       "11              Brand           0   0.000000\n",
       "12        DateCreated           0   0.000000\n",
       "13   NumberOfPictures           0   0.000000\n",
       "14         PostalCode           0   0.000000\n",
       "15           LastSeen           0   0.000000"
      ]
     },
     "metadata": {},
     "output_type": "display_data"
    }
   ],
   "source": [
    "first_check(df)"
   ]
  },
  {
   "cell_type": "markdown",
   "metadata": {},
   "source": [
    "### Вывод"
   ]
  },
  {
   "cell_type": "markdown",
   "metadata": {},
   "source": [
    "* 354369 строк и 16 столбцов\n",
    "* Присутствуют пропуски\n",
    "* Минимальный год регистриции автомобиля 1000, максимальный - 9999. выделим диапозон в годах из процентилей\n",
    "* Максимальная мощность автомобиля в лошадинных силах = 20 000. Показатель весьма фантастический. Выберем диапазон из процентилей.\n",
    "* Много авто имееют максимальный пробег - 150000, возможно простое ограничение ввода данных на сайте.\n",
    "* Неправильно выставлены месяцы. Если первый месяц 0, то последний месяц не должен быть 12.\n",
    "* 8 типов автомобильного кузова\n",
    "* Чаще встречаются авто с механической передач.\n",
    "* Чаще встречаются автомобили на бензине.\n",
    "* Volkswagen самая популярная марка.\n",
    "* Много пропусков в столбце о ремонте авто, но чаще встречаютс автомобили без ремонта. Скорее всего владельцы пропустили это значение потому что авто прежде не ремонтировалось. Либо просто скрыли информацию, чтобы автомобиль не казался менее привлекательным к покупке."
   ]
  },
  {
   "cell_type": "markdown",
   "metadata": {},
   "source": [
    "## 2. Анализ и обработка данных"
   ]
  },
  {
   "cell_type": "markdown",
   "metadata": {},
   "source": [
    "### 2.1 Пропуски"
   ]
  },
  {
   "cell_type": "markdown",
   "metadata": {},
   "source": [
    "Для начала, приведем название столбцов в строчный регистр и уберем не нужные столбцы."
   ]
  },
  {
   "cell_type": "code",
   "execution_count": 5,
   "metadata": {},
   "outputs": [],
   "source": [
    "df.columns = map(str.lower, df.columns)\n",
    "df = df.drop(['datecrawled', 'datecreated', 'registrationmonth', 'numberofpictures', 'postalcode', 'lastseen'], axis=1)"
   ]
  },
  {
   "cell_type": "markdown",
   "metadata": {},
   "source": [
    "Теперь попробуем заполнить большую часть пропусков модой."
   ]
  },
  {
   "cell_type": "code",
   "execution_count": 6,
   "metadata": {},
   "outputs": [],
   "source": [
    "def fill_mode(tuple):\n",
    "    # Заполнение пропусков часто встречающимися значениями\n",
    "    df[tuple[0]] = df.groupby([tuple[1], tuple[2]])[tuple[0]].transform(lambda x: x.fillna((x.mode()[0] if not x.mode().empty else \"Empty\")))"
   ]
  },
  {
   "cell_type": "code",
   "execution_count": 7,
   "metadata": {},
   "outputs": [],
   "source": [
    "def empty_counter(column):\n",
    "    # Счетчик \"Empty\" по столбцу\n",
    "    print(f'{column} - {df[column][df[column] == \"Empty\"].count()}, {round(df[column][df[column] == \"Empty\"].count()/df.shape[0] * 100, 3)} % от датасета')"
   ]
  },
  {
   "cell_type": "code",
   "execution_count": 8,
   "metadata": {},
   "outputs": [],
   "source": [
    "df['notrepaired'] = df['notrepaired'].fillna('no') # Дальше буду рассматривать пропуски, как прежде не ремонтировавшиеся"
   ]
  },
  {
   "cell_type": "code",
   "execution_count": 9,
   "metadata": {},
   "outputs": [],
   "source": [
    "fill_list = [\n",
    "    ('model', 'brand', 'registrationyear'),\n",
    "    ('fueltype', 'brand', 'model'),\n",
    "    ('vehicletype', 'brand', 'model'),\n",
    "    ('gearbox', 'brand', 'model'),\n",
    "]\n",
    "\n",
    "for tuple_with_args in fill_list:\n",
    "    fill_mode(tuple_with_args)"
   ]
  },
  {
   "cell_type": "code",
   "execution_count": 10,
   "metadata": {},
   "outputs": [
    {
     "name": "stdout",
     "output_type": "stream",
     "text": [
      "model - 3442, 0.971 % от датасета\n",
      "fueltype - 14, 0.004 % от датасета\n",
      "vehicletype - 25, 0.007 % от датасета\n",
      "gearbox - 21, 0.006 % от датасета\n"
     ]
    }
   ],
   "source": [
    "columns_to_check = ['model', 'fueltype', 'vehicletype', 'gearbox']\n",
    "\n",
    "for column in columns_to_check:\n",
    "    empty_counter(column)"
   ]
  },
  {
   "cell_type": "markdown",
   "metadata": {},
   "source": [
    "3442 объекта продажи с неизвестными моделями авто. Предлагаю их переименовать в Other. Остальные показатели малы, поэтому мы можем их удалить"
   ]
  },
  {
   "cell_type": "code",
   "execution_count": 11,
   "metadata": {},
   "outputs": [],
   "source": [
    "df['model'] = df['model'].replace('Empty', 'other')\n",
    "\n",
    "for column in columns_to_check[1:]:\n",
    "    df.drop(df[df[column] == \"Empty\"].index, axis=0, inplace=True)"
   ]
  },
  {
   "cell_type": "markdown",
   "metadata": {},
   "source": [
    "Проверим удалось ли нам избавится от пропусков"
   ]
  },
  {
   "cell_type": "code",
   "execution_count": 12,
   "metadata": {},
   "outputs": [
    {
     "name": "stdout",
     "output_type": "stream",
     "text": [
      "model - 0, 0.0 % от датасета\n",
      "fueltype - 0, 0.0 % от датасета\n",
      "vehicletype - 0, 0.0 % от датасета\n",
      "gearbox - 0, 0.0 % от датасета\n"
     ]
    }
   ],
   "source": [
    "for column in columns_to_check:\n",
    "    empty_counter(column)"
   ]
  },
  {
   "cell_type": "code",
   "execution_count": 13,
   "metadata": {},
   "outputs": [
    {
     "data": {
      "text/html": [
       "<div>\n",
       "<style scoped>\n",
       "    .dataframe tbody tr th:only-of-type {\n",
       "        vertical-align: middle;\n",
       "    }\n",
       "\n",
       "    .dataframe tbody tr th {\n",
       "        vertical-align: top;\n",
       "    }\n",
       "\n",
       "    .dataframe thead th {\n",
       "        text-align: right;\n",
       "    }\n",
       "</style>\n",
       "<table border=\"1\" class=\"dataframe\">\n",
       "  <thead>\n",
       "    <tr style=\"text-align: right;\">\n",
       "      <th></th>\n",
       "      <th>column in df</th>\n",
       "      <th>amount nan</th>\n",
       "      <th>% nan</th>\n",
       "    </tr>\n",
       "  </thead>\n",
       "  <tbody>\n",
       "    <tr>\n",
       "      <th>0</th>\n",
       "      <td>price</td>\n",
       "      <td>0</td>\n",
       "      <td>0.0</td>\n",
       "    </tr>\n",
       "    <tr>\n",
       "      <th>1</th>\n",
       "      <td>vehicletype</td>\n",
       "      <td>0</td>\n",
       "      <td>0.0</td>\n",
       "    </tr>\n",
       "    <tr>\n",
       "      <th>2</th>\n",
       "      <td>registrationyear</td>\n",
       "      <td>0</td>\n",
       "      <td>0.0</td>\n",
       "    </tr>\n",
       "    <tr>\n",
       "      <th>3</th>\n",
       "      <td>gearbox</td>\n",
       "      <td>0</td>\n",
       "      <td>0.0</td>\n",
       "    </tr>\n",
       "    <tr>\n",
       "      <th>4</th>\n",
       "      <td>power</td>\n",
       "      <td>0</td>\n",
       "      <td>0.0</td>\n",
       "    </tr>\n",
       "    <tr>\n",
       "      <th>5</th>\n",
       "      <td>model</td>\n",
       "      <td>0</td>\n",
       "      <td>0.0</td>\n",
       "    </tr>\n",
       "    <tr>\n",
       "      <th>6</th>\n",
       "      <td>kilometer</td>\n",
       "      <td>0</td>\n",
       "      <td>0.0</td>\n",
       "    </tr>\n",
       "    <tr>\n",
       "      <th>7</th>\n",
       "      <td>fueltype</td>\n",
       "      <td>0</td>\n",
       "      <td>0.0</td>\n",
       "    </tr>\n",
       "    <tr>\n",
       "      <th>8</th>\n",
       "      <td>brand</td>\n",
       "      <td>0</td>\n",
       "      <td>0.0</td>\n",
       "    </tr>\n",
       "    <tr>\n",
       "      <th>9</th>\n",
       "      <td>notrepaired</td>\n",
       "      <td>0</td>\n",
       "      <td>0.0</td>\n",
       "    </tr>\n",
       "  </tbody>\n",
       "</table>\n",
       "</div>"
      ],
      "text/plain": [
       "       column in df  amount nan  % nan\n",
       "0             price           0    0.0\n",
       "1       vehicletype           0    0.0\n",
       "2  registrationyear           0    0.0\n",
       "3           gearbox           0    0.0\n",
       "4             power           0    0.0\n",
       "5             model           0    0.0\n",
       "6         kilometer           0    0.0\n",
       "7          fueltype           0    0.0\n",
       "8             brand           0    0.0\n",
       "9       notrepaired           0    0.0"
      ]
     },
     "metadata": {},
     "output_type": "display_data"
    }
   ],
   "source": [
    "df_na = df.isna().sum().sort_values(ascending=False).reset_index()\n",
    "df_na['% nan'] = df_na[0] / df.shape[0] * 100\n",
    "df_na.rename(columns = {'index': 'column in df', 0 : 'amount nan'}, inplace = True)\n",
    "display(df_na)"
   ]
  },
  {
   "cell_type": "markdown",
   "metadata": {},
   "source": [
    "### 2.2 Анализ данных"
   ]
  },
  {
   "cell_type": "code",
   "execution_count": 14,
   "metadata": {},
   "outputs": [],
   "source": [
    "def make_barbplot(column, title):\n",
    "    fig, ax = plt.subplots(figsize=(12, 5))\n",
    "    pivot = pd.DataFrame(df.pivot_table(index=column, aggfunc=\"size\").sort_values(ascending=False)).head(10)\n",
    "    \n",
    "    sns.barplot(data=pivot, x=0, y=pivot.index)\n",
    "    ax.set_title(title)\n",
    "    plt.xlabel('Количество')\n",
    "    plt.show()"
   ]
  },
  {
   "cell_type": "code",
   "execution_count": 15,
   "metadata": {},
   "outputs": [],
   "source": [
    "def price_plot(feature, title):\n",
    "    mean_price = df[[feature, 'price']].groupby(feature, as_index=False).mean().astype('int')\n",
    "    plt.figure(figsize=(12,6))\n",
    "    plt.grid(axis = 'both')\n",
    "    \n",
    "    sns.lineplot(x=feature, y='price', data=mean_price)\n",
    "    plt.xlabel(feature, size=12)\n",
    "    plt.ylabel('Средняя цена в евро', size=12)\n",
    "    plt.title(title, size=15, y=1.02)\n",
    "    plt.show()"
   ]
  },
  {
   "cell_type": "code",
   "execution_count": 16,
   "metadata": {},
   "outputs": [
    {
     "name": "stdout",
     "output_type": "stream",
     "text": [
      "<class 'pandas.core.frame.DataFrame'>\n",
      "Int64Index: 354343 entries, 0 to 354368\n",
      "Data columns (total 10 columns):\n",
      " #   Column            Non-Null Count   Dtype \n",
      "---  ------            --------------   ----- \n",
      " 0   price             354343 non-null  int64 \n",
      " 1   vehicletype       354343 non-null  object\n",
      " 2   registrationyear  354343 non-null  int64 \n",
      " 3   gearbox           354343 non-null  object\n",
      " 4   power             354343 non-null  int64 \n",
      " 5   model             354343 non-null  object\n",
      " 6   kilometer         354343 non-null  int64 \n",
      " 7   fueltype          354343 non-null  object\n",
      " 8   brand             354343 non-null  object\n",
      " 9   notrepaired       354343 non-null  object\n",
      "dtypes: int64(4), object(6)\n",
      "memory usage: 29.7+ MB\n"
     ]
    }
   ],
   "source": [
    "df.info()"
   ]
  },
  {
   "cell_type": "markdown",
   "metadata": {},
   "source": [
    "**Категориальные признаки**"
   ]
  },
  {
   "cell_type": "code",
   "execution_count": 17,
   "metadata": {},
   "outputs": [
    {
     "data": {
      "image/png": "[encoded data removed]",
      "text/plain": [
       "<Figure size 864x360 with 1 Axes>"
      ]
     },
     "metadata": {
      "needs_background": "light"
     },
     "output_type": "display_data"
    }
   ],
   "source": [
    "make_barbplot('vehicletype', '10 популярных типов кузова')"
   ]
  },
  {
   "cell_type": "markdown",
   "metadata": {},
   "source": [
    "Самый популярный тип автомобильного кузова - `sedan`."
   ]
  },
  {
   "cell_type": "code",
   "execution_count": 18,
   "metadata": {},
   "outputs": [
    {
     "data": {
      "image/png": "[encoded data removed]",
      "text/plain": [
       "<Figure size 864x360 with 1 Axes>"
      ]
     },
     "metadata": {
      "needs_background": "light"
     },
     "output_type": "display_data"
    }
   ],
   "source": [
    "make_barbplot('gearbox', 'Тип коробки передач')"
   ]
  },
  {
   "cell_type": "markdown",
   "metadata": {},
   "source": [
    "Большинство предпочитает механическую коробку передач."
   ]
  },
  {
   "cell_type": "code",
   "execution_count": 19,
   "metadata": {},
   "outputs": [
    {
     "data": {
      "image/png": "[encoded data removed]",
      "text/plain": [
       "<Figure size 864x360 with 1 Axes>"
      ]
     },
     "metadata": {
      "needs_background": "light"
     },
     "output_type": "display_data"
    }
   ],
   "source": [
    "make_barbplot('model', 'Популярные модели автомобилей')"
   ]
  },
  {
   "cell_type": "markdown",
   "metadata": {},
   "source": [
    "Самая популярная модель авто - `golf`, также заметим, что у нас много неизвестных нам моделей. (`other`)"
   ]
  },
  {
   "cell_type": "code",
   "execution_count": 20,
   "metadata": {},
   "outputs": [
    {
     "data": {
      "image/png": "[encoded data removed]",
      "text/plain": [
       "<Figure size 864x360 with 1 Axes>"
      ]
     },
     "metadata": {
      "needs_background": "light"
     },
     "output_type": "display_data"
    }
   ],
   "source": [
    "make_barbplot('fueltype', 'Тип топлива')"
   ]
  },
  {
   "cell_type": "markdown",
   "metadata": {},
   "source": [
    "Большинство авто на бензине."
   ]
  },
  {
   "cell_type": "code",
   "execution_count": 21,
   "metadata": {},
   "outputs": [
    {
     "data": {
      "image/png": "[encoded data removed]",
      "text/plain": [
       "<Figure size 864x360 with 1 Axes>"
      ]
     },
     "metadata": {
      "needs_background": "light"
     },
     "output_type": "display_data"
    }
   ],
   "source": [
    "make_barbplot('brand', 'Популярные марки автомобилей')"
   ]
  },
  {
   "cell_type": "markdown",
   "metadata": {},
   "source": [
    "Самая популярная марка Volkswagen."
   ]
  },
  {
   "cell_type": "code",
   "execution_count": 22,
   "metadata": {},
   "outputs": [
    {
     "data": {
      "image/png": "[encoded data removed]",
      "text/plain": [
       "<Figure size 864x360 with 1 Axes>"
      ]
     },
     "metadata": {
      "needs_background": "light"
     },
     "output_type": "display_data"
    }
   ],
   "source": [
    "make_barbplot('notrepaired', 'Была машина в ремонте или нет')"
   ]
  },
  {
   "cell_type": "markdown",
   "metadata": {},
   "source": [
    "Большинство авто не было в ремонте. (либо скрыли эту информацию)"
   ]
  },
  {
   "cell_type": "markdown",
   "metadata": {},
   "source": [
    "**Количественные признаки**"
   ]
  },
  {
   "cell_type": "markdown",
   "metadata": {},
   "source": [
    "Из пункта 1 нам известно, что имеются случаи бессплатных автомобилей, необходимо посмотреть какое кол-во авто отдают беспплатно."
   ]
  },
  {
   "cell_type": "code",
   "execution_count": 23,
   "metadata": {},
   "outputs": [
    {
     "data": {
      "text/plain": [
       "(10763, 10)"
      ]
     },
     "execution_count": 23,
     "metadata": {},
     "output_type": "execute_result"
    }
   ],
   "source": [
    "free_cars = df.query('price == 0')\n",
    "free_cars.shape"
   ]
  },
  {
   "cell_type": "markdown",
   "metadata": {},
   "source": [
    "У нас 10772 бесплатных автомобиля. Похоже на ошибку при выгрузке данных или владельцы не хотели озвучивать цену транспортного средства. В любом случае нам придется убрать такие случаи из датасета."
   ]
  },
  {
   "cell_type": "code",
   "execution_count": 24,
   "metadata": {},
   "outputs": [],
   "source": [
    "df = df.query('price != 0')"
   ]
  },
  {
   "cell_type": "markdown",
   "metadata": {},
   "source": [
    "Теперь посмотрим на мощность (`power`) продаваемых автомобилей."
   ]
  },
  {
   "cell_type": "code",
   "execution_count": 25,
   "metadata": {},
   "outputs": [
    {
     "name": "stdout",
     "output_type": "stream",
     "text": [
      "count    343580.000000\n",
      "mean        110.994121\n",
      "std         188.137430\n",
      "min           0.000000\n",
      "0%            0.000000\n",
      "5%            0.000000\n",
      "10%           0.000000\n",
      "15%          54.000000\n",
      "20%          60.000000\n",
      "25%          69.000000\n",
      "30%          75.000000\n",
      "35%          82.000000\n",
      "40%          90.000000\n",
      "45%         101.000000\n",
      "50%         105.000000\n",
      "55%         110.000000\n",
      "60%         116.000000\n",
      "65%         125.000000\n",
      "70%         136.000000\n",
      "75%         143.000000\n",
      "80%         150.000000\n",
      "85%         170.000000\n",
      "90%         180.000000\n",
      "95%         218.000000\n",
      "max       20000.000000\n",
      "Name: power, dtype: float64\n"
     ]
    },
    {
     "data": {
      "image/png": "[encoded data removed]",
      "text/plain": [
       "<Figure size 432x288 with 1 Axes>"
      ]
     },
     "metadata": {
      "needs_background": "light"
     },
     "output_type": "display_data"
    }
   ],
   "source": [
    "perc = np.arange(0,1,0.05)\n",
    "print(df['power'].describe(percentiles = perc))\n",
    "\n",
    "sns.boxplot(y='power', data=df)\n",
    "plt.title('power')\n",
    "plt.xlabel('Количество')\n",
    "plt.show()"
   ]
  },
  {
   "cell_type": "markdown",
   "metadata": {},
   "source": [
    "В данном столбце много выбросов, поэтому график становится неинформативным."
   ]
  },
  {
   "cell_type": "code",
   "execution_count": 26,
   "metadata": {},
   "outputs": [
    {
     "data": {
      "image/png": "[encoded data removed]",
      "text/plain": [
       "<Figure size 864x432 with 1 Axes>"
      ]
     },
     "metadata": {
      "needs_background": "light"
     },
     "output_type": "display_data"
    }
   ],
   "source": [
    "Q1 = df['power'].quantile(0.25)\n",
    "Q3 = df['power'].quantile(0.75)\n",
    "IQR = Q3 - Q1\n",
    "\n",
    "df['power'].plot(kind = 'hist', bins = 150, grid=True, range=(Q1 - IQR, Q3 + 1.5 * IQR), figsize=(12, 6))\n",
    "plt.xlabel('Лошадиные силы')\n",
    "plt.ylabel('Количество')\n",
    "plt.show()"
   ]
  },
  {
   "cell_type": "markdown",
   "metadata": {},
   "source": [
    "Мы взяли квантили от показателей столбца для графика, и судя по нему в основном встречаются авто с мощностью до 250 лс. Примем 300 лс (возьму с небольшим запасом) как максимум диапазона, а нули заменим на медианы относительно групп моделей объектов."
   ]
  },
  {
   "cell_type": "code",
   "execution_count": 27,
   "metadata": {},
   "outputs": [],
   "source": [
    "medians  = df.groupby('model')['power'].median().to_dict()\n",
    "\n",
    "def fill_median (row):\n",
    "    if row['power'] == 0:\n",
    "        return int(medians[row['model']])\n",
    "    return int(row['power'])"
   ]
  },
  {
   "cell_type": "code",
   "execution_count": 28,
   "metadata": {},
   "outputs": [],
   "source": [
    "df['power'] = df.apply(lambda row: fill_median(row), axis = 1)\n",
    "df = df.query('power <= 300')"
   ]
  },
  {
   "cell_type": "code",
   "execution_count": 29,
   "metadata": {},
   "outputs": [
    {
     "data": {
      "image/png": "[encoded data removed]",
      "text/plain": [
       "<Figure size 864x432 with 1 Axes>"
      ]
     },
     "metadata": {
      "needs_background": "light"
     },
     "output_type": "display_data"
    }
   ],
   "source": [
    "fig, ax = plt.subplots(figsize=(12, 5))\n",
    "df['power'].plot(kind = 'hist', bins = 150, grid=True, range=(Q1 - IQR, Q3 + 1.5 * IQR), figsize=(12, 6))\n",
    "plt.xlabel('Лошадиные силы')\n",
    "plt.ylabel('Количество')\n",
    "plt.show()"
   ]
  },
  {
   "cell_type": "markdown",
   "metadata": {},
   "source": [
    "Убрали выбросы и нули из столбца `power`."
   ]
  },
  {
   "cell_type": "code",
   "execution_count": 30,
   "metadata": {},
   "outputs": [
    {
     "name": "stdout",
     "output_type": "stream",
     "text": [
      "count    340132.000000\n",
      "mean       2004.020127\n",
      "std          74.901454\n",
      "min        1000.000000\n",
      "0%         1000.000000\n",
      "5%         1993.000000\n",
      "10%        1996.000000\n",
      "15%        1997.000000\n",
      "20%        1998.000000\n",
      "25%        1999.000000\n",
      "30%        2000.000000\n",
      "35%        2000.000000\n",
      "40%        2001.000000\n",
      "45%        2002.000000\n",
      "50%        2003.000000\n",
      "55%        2004.000000\n",
      "60%        2005.000000\n",
      "65%        2006.000000\n",
      "70%        2007.000000\n",
      "75%        2008.000000\n",
      "80%        2009.000000\n",
      "85%        2010.000000\n",
      "90%        2012.000000\n",
      "95%        2016.000000\n",
      "max        9999.000000\n",
      "Name: registrationyear, dtype: float64\n"
     ]
    },
    {
     "data": {
      "image/png": "[encoded data removed]",
      "text/plain": [
       "<Figure size 432x288 with 1 Axes>"
      ]
     },
     "metadata": {
      "needs_background": "light"
     },
     "output_type": "display_data"
    }
   ],
   "source": [
    "print(df['registrationyear'].describe(percentiles = perc))\n",
    "\n",
    "sns.boxplot(y='registrationyear', data=df)\n",
    "plt.title('registrationyear')\n",
    "plt.xlabel('Количество')\n",
    "plt.show()"
   ]
  },
  {
   "cell_type": "markdown",
   "metadata": {},
   "source": [
    "Буду рассматривать записи с `1992` по `2020`."
   ]
  },
  {
   "cell_type": "code",
   "execution_count": 31,
   "metadata": {},
   "outputs": [],
   "source": [
    "df = df.query('registrationyear >= 1992 and registrationyear < 2020')"
   ]
  },
  {
   "cell_type": "code",
   "execution_count": 32,
   "metadata": {},
   "outputs": [
    {
     "data": {
      "image/png": "[encoded data removed]",
      "text/plain": [
       "<Figure size 864x432 with 1 Axes>"
      ]
     },
     "metadata": {
      "needs_background": "light"
     },
     "output_type": "display_data"
    }
   ],
   "source": [
    "fig, ax = plt.subplots(figsize=(12, 5))\n",
    "df['registrationyear'].plot(kind = 'hist', grid=True, figsize=(12, 6))\n",
    "plt.xlabel('Лошадиные силы')\n",
    "plt.ylabel('Количество')\n",
    "plt.show()"
   ]
  },
  {
   "cell_type": "markdown",
   "metadata": {},
   "source": [
    "Теперь проверим датасет на дубликаты."
   ]
  },
  {
   "cell_type": "code",
   "execution_count": 33,
   "metadata": {},
   "outputs": [
    {
     "data": {
      "text/plain": [
       "57497"
      ]
     },
     "execution_count": 33,
     "metadata": {},
     "output_type": "execute_result"
    }
   ],
   "source": [
    "df.duplicated().sum()"
   ]
  },
  {
   "cell_type": "code",
   "execution_count": 34,
   "metadata": {},
   "outputs": [
    {
     "name": "stdout",
     "output_type": "stream",
     "text": [
      "Мы будем использовать 75.827% от начальной выборки\n"
     ]
    }
   ],
   "source": [
    "df = df.drop_duplicates().reset_index(drop=True)\n",
    "print(f'Мы будем использовать {round(df.shape[0] / 354369 * 100, 3)}% от начальной выборки')"
   ]
  },
  {
   "cell_type": "code",
   "execution_count": 35,
   "metadata": {},
   "outputs": [
    {
     "data": {
      "image/png": "[encoded data removed]",
      "text/plain": [
       "<Figure size 864x432 with 1 Axes>"
      ]
     },
     "metadata": {
      "needs_background": "light"
     },
     "output_type": "display_data"
    }
   ],
   "source": [
    "price_plot('registrationyear', 'Изменение цены в зависимости от года регистрации')"
   ]
  },
  {
   "cell_type": "code",
   "execution_count": 36,
   "metadata": {},
   "outputs": [
    {
     "data": {
      "image/png": "[encoded data removed]",
      "text/plain": [
       "<Figure size 864x432 with 1 Axes>"
      ]
     },
     "metadata": {
      "needs_background": "light"
     },
     "output_type": "display_data"
    }
   ],
   "source": [
    "price_plot('power', 'Изменение цены в зависимости от мощности')"
   ]
  },
  {
   "cell_type": "code",
   "execution_count": 37,
   "metadata": {},
   "outputs": [
    {
     "data": {
      "image/png": "[encoded data removed]",
      "text/plain": [
       "<Figure size 864x432 with 1 Axes>"
      ]
     },
     "metadata": {
      "needs_background": "light"
     },
     "output_type": "display_data"
    }
   ],
   "source": [
    "price_plot('kilometer', 'Изменение цены в зависимости от пробега')"
   ]
  },
  {
   "cell_type": "markdown",
   "metadata": {},
   "source": [
    "### 2.3 Корреляция"
   ]
  },
  {
   "cell_type": "code",
   "execution_count": 38,
   "metadata": {},
   "outputs": [
    {
     "data": {
      "image/png": "[encoded data removed]",
      "text/plain": [
       "<Figure size 432x432 with 2 Axes>"
      ]
     },
     "metadata": {
      "needs_background": "light"
     },
     "output_type": "display_data"
    }
   ],
   "source": [
    "corr = df.corr()\n",
    "\n",
    "fig, ax = plt.subplots(figsize=(6, 6))\n",
    "sns.heatmap(corr, annot=True, square=True, vmin=-1, vmax=1, cmap=\"Blues\")\n",
    "plt.title('Корреляция')\n",
    "plt.show()"
   ]
  },
  {
   "cell_type": "markdown",
   "metadata": {},
   "source": [
    "Прослеживается заметная корреляция таргета с годом регистрации и мощностью, умеренная корреляция таргета с пробегом и  умеренная корреляция между пробегом и годом регистрации, в остальных случаях корреляция слабая или ее нет совсем. (Руководствовался шкалой Чеддока)"
   ]
  },
  {
   "cell_type": "markdown",
   "metadata": {},
   "source": [
    "## 3. Обучение моделей"
   ]
  },
  {
   "cell_type": "markdown",
   "metadata": {},
   "source": [
    "Фичи:\n",
    "1) Object:\n",
    "* vehicletype, registrationyear, gearbox, model, fueltype, brand, notrepaired.\n",
    "\n",
    "2) Int:\n",
    "* power, kilometer.\n",
    "    \n",
    "Таргет:\n",
    "* price"
   ]
  },
  {
   "cell_type": "markdown",
   "metadata": {},
   "source": [
    "### 3.1 Разделение и кодирование выборок"
   ]
  },
  {
   "cell_type": "code",
   "execution_count": 39,
   "metadata": {},
   "outputs": [],
   "source": [
    "df_ohe = df.copy()\n",
    "df_ohe['registrationyear'] = df_ohe['registrationyear'].astype(str)\n",
    "df_ohe = pd.get_dummies(df_ohe)\n",
    "\n",
    "df_light = df.copy()\n",
    "df_light = df_light.astype(\n",
    "    {\"vehicletype\":'category', \n",
    "     \"registrationyear\":'category',\n",
    "     \"gearbox\":'category', \n",
    "     \"model\":'category',\n",
    "     \"fueltype\":'category',\n",
    "     \"brand\":'category',\n",
    "     'notrepaired':'category',}\n",
    ")\n",
    "\n",
    "df_oe = df_light"
   ]
  },
  {
   "cell_type": "code",
   "execution_count": 40,
   "metadata": {},
   "outputs": [],
   "source": [
    "(trainX_wo_ohe,\n",
    " testX_wo_ohe,\n",
    " trainY_wo_ohe,\n",
    " testY_wo_ohe,) = train_test_split(df.drop(['price'], axis=1),\n",
    "                                   df['price'],\n",
    "                                   test_size=0.25,\n",
    "                                   random_state=RND) \n",
    "\n",
    "(trainX_wo_ohe_light,\n",
    " testX_wo_ohe_light,\n",
    " trainY_wo_ohe_light,\n",
    " testY_wo_ohe_light,) = train_test_split(df_light.drop(['price'], axis=1),\n",
    "                                         df_light['price'],\n",
    "                                         test_size=0.25,\n",
    "                                         random_state=RND) "
   ]
  },
  {
   "cell_type": "code",
   "execution_count": 41,
   "metadata": {},
   "outputs": [],
   "source": [
    "del df_light, df"
   ]
  },
  {
   "cell_type": "markdown",
   "metadata": {},
   "source": [
    "### 3.2 LightGBM"
   ]
  },
  {
   "cell_type": "code",
   "execution_count": 42,
   "metadata": {},
   "outputs": [
    {
     "name": "stdout",
     "output_type": "stream",
     "text": [
      "Best hyperparams:  {'boosting_type': 'gbdt', 'force_col_wise': True, 'max_depth': 10, 'metric': 'l2', 'n_estimators': 100, 'num_leaves': 128, 'random_state': 2102}\n",
      "RMSE score on train sample: 1623.023\n",
      "\n",
      "CPU times: total: 26.3 s\n",
      "Wall time: 10.5 s\n"
     ]
    }
   ],
   "source": [
    "%%time\n",
    "\n",
    "cats_cols=['vehicletype', 'registrationyear', 'gearbox', 'model', 'fueltype', 'brand', 'notrepaired']\n",
    "\n",
    "model = LGBMRegressor()\n",
    "params = {\n",
    "    'metric': ['l2'],\n",
    "    'boosting_type' : ['gbdt'],\n",
    "    'n_estimators' : [50, 100],\n",
    "    'max_depth' : [5, 7, 10],\n",
    "    'random_state' : [RND],\n",
    "    'force_col_wise': [True],\n",
    "    'num_leaves' : [128],\n",
    "}\n",
    "    \n",
    "grid_cv = GridSearchCV(estimator=model, param_grid=params, cv=3, n_jobs=-1, scoring='neg_mean_squared_error')\n",
    "grid_cv.fit(trainX_wo_ohe_light, trainY_wo_ohe_light)\n",
    "lgb_params = grid_cv.best_params_\n",
    "print('Best hyperparams: ', grid_cv.best_params_)\n",
    "print(f'RMSE score on train sample: {round((-grid_cv.best_score_) ** 0.5, 3)}\\n')"
   ]
  },
  {
   "cell_type": "code",
   "execution_count": 43,
   "metadata": {},
   "outputs": [
    {
     "name": "stdout",
     "output_type": "stream",
     "text": [
      "Test RMSE = 1606.584\n",
      "CPU times: total: 31 s\n",
      "Wall time: 1.32 s\n"
     ]
    }
   ],
   "source": [
    "%%time\n",
    "\n",
    "model_lgb = LGBMRegressor(**lgb_params)\n",
    "model_lgb.fit(trainX_wo_ohe_light, trainY_wo_ohe_light)\n",
    "predict_lgb = model_lgb.predict(testX_wo_ohe_light)\n",
    "print(f'Test RMSE = {round(mse(testY_wo_ohe_light, predict_lgb)**0.5, 3)}')"
   ]
  },
  {
   "cell_type": "markdown",
   "metadata": {},
   "source": [
    "### 3.3 Catboost"
   ]
  },
  {
   "cell_type": "code",
   "execution_count": 44,
   "metadata": {},
   "outputs": [
    {
     "name": "stdout",
     "output_type": "stream",
     "text": [
      "Best hyperparams:  {'max_depth': 10, 'n_estimators': 100, 'random_state': 2102, 'verbose': 0}\n",
      "RMSE score on train sample: 1669.798\n",
      "\n",
      "CPU times: total: 1min 4s\n",
      "Wall time: 39.2 s\n"
     ]
    }
   ],
   "source": [
    "%%time\n",
    "\n",
    "model = CatBoostRegressor()\n",
    "params = {\n",
    "    'n_estimators' : [50, 100],\n",
    "    'random_state' : [RND],\n",
    "    'max_depth' : [5, 7, 10],\n",
    "    'verbose':[0]\n",
    "}\n",
    "grid_cv = GridSearchCV(estimator=model, param_grid=params, cv=3, n_jobs=-1, scoring='neg_mean_squared_error')\n",
    "grid_cv.fit(trainX_wo_ohe, trainY_wo_ohe, cat_features=cats_cols)\n",
    "catb_params = grid_cv.best_params_\n",
    "print('Best hyperparams: ', grid_cv.best_params_)\n",
    "print(f'RMSE score on train sample: {round((-grid_cv.best_score_) ** 0.5, 3)}\\n')"
   ]
  },
  {
   "cell_type": "code",
   "execution_count": 45,
   "metadata": {},
   "outputs": [
    {
     "name": "stdout",
     "output_type": "stream",
     "text": [
      "Test RMSE = 1606.584\n",
      "CPU times: total: 1min 3s\n",
      "Wall time: 7.3 s\n"
     ]
    }
   ],
   "source": [
    "%%time\n",
    "\n",
    "catb_model = CatBoostRegressor(**catb_params)\n",
    "catb_model.fit(trainX_wo_ohe, trainY_wo_ohe, cat_features=cats_cols)\n",
    "catb_pred = catb_model.predict(testX_wo_ohe)\n",
    "print(f'Test RMSE = {round(mse(testY_wo_ohe_light, predict_lgb)**0.5, 3)}')"
   ]
  },
  {
   "cell_type": "markdown",
   "metadata": {},
   "source": [
    "### 3.4 Simpleboost (ohe)"
   ]
  },
  {
   "cell_type": "code",
   "execution_count": 46,
   "metadata": {},
   "outputs": [
    {
     "name": "stderr",
     "output_type": "stream",
     "text": [
      "100%|████████████████████████████████████████████████████████████████████████████████| 100/100 [08:54<00:00,  5.34s/it]"
     ]
    },
    {
     "name": "stdout",
     "output_type": "stream",
     "text": [
      "RMSE score on train sample: 1483.386\n",
      "\n",
      "CPU times: total: 8min 54s\n",
      "Wall time: 8min 54s\n"
     ]
    },
    {
     "name": "stderr",
     "output_type": "stream",
     "text": [
      "\n"
     ]
    }
   ],
   "source": [
    "%%time\n",
    "\n",
    "n = 100\n",
    "nu = 0.1\n",
    "trees = []\n",
    "\n",
    "train_ohe = df_ohe[:int(len(df_ohe.index)/4 * 3)]\n",
    "test_ohe = df_ohe[int(len(df_ohe.index)/4 * 3):]\n",
    "train_ohe['y_pred'] = train_ohe['price'].mean()\n",
    "\n",
    "for i in trange(n):\n",
    "    train_ohe['residual'] = train_ohe['price'] - train_ohe['y_pred']\n",
    "    tree = DecisionTreeRegressor(max_depth=10)\n",
    "    tree.fit(train_ohe.drop(['y_pred', 'residual', 'price'], axis=1), train_ohe['residual'])\n",
    "    train_ohe['y_pred'] += nu * tree.predict(train_ohe.drop(['y_pred', 'residual', 'price'], axis=1))\n",
    "    trees.append(tree)\n",
    "    \n",
    "print(f'RMSE score on train sample: {round(mse(train_ohe[\"price\"], train_ohe[\"y_pred\"]) ** 0.5, 3)}\\n')"
   ]
  },
  {
   "cell_type": "code",
   "execution_count": 47,
   "metadata": {
    "scrolled": true
   },
   "outputs": [
    {
     "name": "stdout",
     "output_type": "stream",
     "text": [
      "Test RMSE = 1734.115\n",
      "\n",
      "CPU times: total: 17.6 s\n",
      "Wall time: 17.7 s\n"
     ]
    }
   ],
   "source": [
    "%%time\n",
    "\n",
    "test_ohe['y_pred'] = test_ohe['price'].mean()\n",
    "\n",
    "for tree in trees:\n",
    "    test_ohe['y_pred'] += nu * tree.predict(test_ohe.drop(['y_pred', 'price'], axis=1))\n",
    "\n",
    "print(f'Test RMSE = {round(mse(test_ohe[\"price\"], test_ohe[\"y_pred\"]) ** 0.5, 3)}\\n')"
   ]
  },
  {
   "cell_type": "markdown",
   "metadata": {},
   "source": [
    "### 3.5 RandomForest (ohe)"
   ]
  },
  {
   "cell_type": "code",
   "execution_count": 48,
   "metadata": {},
   "outputs": [
    {
     "name": "stdout",
     "output_type": "stream",
     "text": [
      "RMSE score on train sample: 1040.796\n",
      "\n",
      "CPU times: total: 54min 18s\n",
      "Wall time: 2min 25s\n"
     ]
    }
   ],
   "source": [
    "%%time\n",
    "\n",
    "RF = RandomForestRegressor(criterion = \"mse\", random_state=RND, n_estimators = 100, n_jobs=-1)\n",
    "RF.fit(train_ohe.drop(['y_pred', 'residual', 'price'], axis=1), train_ohe['price'])\n",
    "\n",
    "print(f'RMSE score on train sample: {round(mse(train_ohe[\"price\"], RF.predict(train_ohe.drop([\"y_pred\", \"residual\", \"price\"], axis=1))) ** 0.5, 3)}\\n')"
   ]
  },
  {
   "cell_type": "code",
   "execution_count": 49,
   "metadata": {},
   "outputs": [
    {
     "name": "stdout",
     "output_type": "stream",
     "text": [
      "Test RMSE = 1768.556\n",
      "\n",
      "CPU times: total: 12.1 s\n",
      "Wall time: 741 ms\n"
     ]
    }
   ],
   "source": [
    "%%time\n",
    "\n",
    "print(f'Test RMSE = {round(mse(test_ohe[\"price\"], RF.predict(test_ohe.drop([\"y_pred\", \"price\"], axis=1))) ** 0.5, 3)}\\n')"
   ]
  },
  {
   "cell_type": "markdown",
   "metadata": {},
   "source": [
    "### 3.6 Simpleboost (oe)"
   ]
  },
  {
   "cell_type": "code",
   "execution_count": 50,
   "metadata": {},
   "outputs": [],
   "source": [
    "for cat in cats_cols:\n",
    "    df_oe[cat] = df_oe[cat].cat.codes"
   ]
  },
  {
   "cell_type": "code",
   "execution_count": 51,
   "metadata": {},
   "outputs": [
    {
     "data": {
      "text/html": [
       "<div>\n",
       "<style scoped>\n",
       "    .dataframe tbody tr th:only-of-type {\n",
       "        vertical-align: middle;\n",
       "    }\n",
       "\n",
       "    .dataframe tbody tr th {\n",
       "        vertical-align: top;\n",
       "    }\n",
       "\n",
       "    .dataframe thead th {\n",
       "        text-align: right;\n",
       "    }\n",
       "</style>\n",
       "<table border=\"1\" class=\"dataframe\">\n",
       "  <thead>\n",
       "    <tr style=\"text-align: right;\">\n",
       "      <th></th>\n",
       "      <th>price</th>\n",
       "      <th>vehicletype</th>\n",
       "      <th>registrationyear</th>\n",
       "      <th>gearbox</th>\n",
       "      <th>power</th>\n",
       "      <th>model</th>\n",
       "      <th>kilometer</th>\n",
       "      <th>fueltype</th>\n",
       "      <th>brand</th>\n",
       "      <th>notrepaired</th>\n",
       "    </tr>\n",
       "  </thead>\n",
       "  <tbody>\n",
       "    <tr>\n",
       "      <th>0</th>\n",
       "      <td>480</td>\n",
       "      <td>4</td>\n",
       "      <td>1</td>\n",
       "      <td>1</td>\n",
       "      <td>90</td>\n",
       "      <td>116</td>\n",
       "      <td>150000</td>\n",
       "      <td>6</td>\n",
       "      <td>38</td>\n",
       "      <td>0</td>\n",
       "    </tr>\n",
       "    <tr>\n",
       "      <th>1</th>\n",
       "      <td>18300</td>\n",
       "      <td>2</td>\n",
       "      <td>19</td>\n",
       "      <td>1</td>\n",
       "      <td>190</td>\n",
       "      <td>29</td>\n",
       "      <td>125000</td>\n",
       "      <td>2</td>\n",
       "      <td>1</td>\n",
       "      <td>1</td>\n",
       "    </tr>\n",
       "    <tr>\n",
       "      <th>2</th>\n",
       "      <td>9800</td>\n",
       "      <td>6</td>\n",
       "      <td>12</td>\n",
       "      <td>0</td>\n",
       "      <td>163</td>\n",
       "      <td>117</td>\n",
       "      <td>125000</td>\n",
       "      <td>2</td>\n",
       "      <td>14</td>\n",
       "      <td>0</td>\n",
       "    </tr>\n",
       "    <tr>\n",
       "      <th>3</th>\n",
       "      <td>1500</td>\n",
       "      <td>5</td>\n",
       "      <td>9</td>\n",
       "      <td>1</td>\n",
       "      <td>75</td>\n",
       "      <td>116</td>\n",
       "      <td>150000</td>\n",
       "      <td>6</td>\n",
       "      <td>38</td>\n",
       "      <td>0</td>\n",
       "    </tr>\n",
       "    <tr>\n",
       "      <th>4</th>\n",
       "      <td>3600</td>\n",
       "      <td>5</td>\n",
       "      <td>16</td>\n",
       "      <td>1</td>\n",
       "      <td>69</td>\n",
       "      <td>101</td>\n",
       "      <td>90000</td>\n",
       "      <td>2</td>\n",
       "      <td>31</td>\n",
       "      <td>0</td>\n",
       "    </tr>\n",
       "    <tr>\n",
       "      <th>...</th>\n",
       "      <td>...</td>\n",
       "      <td>...</td>\n",
       "      <td>...</td>\n",
       "      <td>...</td>\n",
       "      <td>...</td>\n",
       "      <td>...</td>\n",
       "      <td>...</td>\n",
       "      <td>...</td>\n",
       "      <td>...</td>\n",
       "      <td>...</td>\n",
       "    </tr>\n",
       "    <tr>\n",
       "      <th>268704</th>\n",
       "      <td>3200</td>\n",
       "      <td>4</td>\n",
       "      <td>12</td>\n",
       "      <td>1</td>\n",
       "      <td>225</td>\n",
       "      <td>140</td>\n",
       "      <td>150000</td>\n",
       "      <td>6</td>\n",
       "      <td>30</td>\n",
       "      <td>1</td>\n",
       "    </tr>\n",
       "    <tr>\n",
       "      <th>268705</th>\n",
       "      <td>2200</td>\n",
       "      <td>4</td>\n",
       "      <td>13</td>\n",
       "      <td>1</td>\n",
       "      <td>107</td>\n",
       "      <td>166</td>\n",
       "      <td>20000</td>\n",
       "      <td>6</td>\n",
       "      <td>33</td>\n",
       "      <td>0</td>\n",
       "    </tr>\n",
       "    <tr>\n",
       "      <th>268706</th>\n",
       "      <td>1199</td>\n",
       "      <td>1</td>\n",
       "      <td>8</td>\n",
       "      <td>0</td>\n",
       "      <td>101</td>\n",
       "      <td>106</td>\n",
       "      <td>125000</td>\n",
       "      <td>6</td>\n",
       "      <td>32</td>\n",
       "      <td>0</td>\n",
       "    </tr>\n",
       "    <tr>\n",
       "      <th>268707</th>\n",
       "      <td>9200</td>\n",
       "      <td>0</td>\n",
       "      <td>4</td>\n",
       "      <td>1</td>\n",
       "      <td>102</td>\n",
       "      <td>222</td>\n",
       "      <td>150000</td>\n",
       "      <td>2</td>\n",
       "      <td>38</td>\n",
       "      <td>0</td>\n",
       "    </tr>\n",
       "    <tr>\n",
       "      <th>268708</th>\n",
       "      <td>3400</td>\n",
       "      <td>7</td>\n",
       "      <td>10</td>\n",
       "      <td>1</td>\n",
       "      <td>100</td>\n",
       "      <td>116</td>\n",
       "      <td>150000</td>\n",
       "      <td>2</td>\n",
       "      <td>38</td>\n",
       "      <td>0</td>\n",
       "    </tr>\n",
       "  </tbody>\n",
       "</table>\n",
       "<p>268709 rows × 10 columns</p>\n",
       "</div>"
      ],
      "text/plain": [
       "        price  vehicletype  registrationyear  gearbox  power  model  \\\n",
       "0         480            4                 1        1     90    116   \n",
       "1       18300            2                19        1    190     29   \n",
       "2        9800            6                12        0    163    117   \n",
       "3        1500            5                 9        1     75    116   \n",
       "4        3600            5                16        1     69    101   \n",
       "...       ...          ...               ...      ...    ...    ...   \n",
       "268704   3200            4                12        1    225    140   \n",
       "268705   2200            4                13        1    107    166   \n",
       "268706   1199            1                 8        0    101    106   \n",
       "268707   9200            0                 4        1    102    222   \n",
       "268708   3400            7                10        1    100    116   \n",
       "\n",
       "        kilometer  fueltype  brand  notrepaired  \n",
       "0          150000         6     38            0  \n",
       "1          125000         2      1            1  \n",
       "2          125000         2     14            0  \n",
       "3          150000         6     38            0  \n",
       "4           90000         2     31            0  \n",
       "...           ...       ...    ...          ...  \n",
       "268704     150000         6     30            1  \n",
       "268705      20000         6     33            0  \n",
       "268706     125000         6     32            0  \n",
       "268707     150000         2     38            0  \n",
       "268708     150000         2     38            0  \n",
       "\n",
       "[268709 rows x 10 columns]"
      ]
     },
     "execution_count": 51,
     "metadata": {},
     "output_type": "execute_result"
    }
   ],
   "source": [
    "df_oe"
   ]
  },
  {
   "cell_type": "code",
   "execution_count": 52,
   "metadata": {},
   "outputs": [
    {
     "name": "stderr",
     "output_type": "stream",
     "text": [
      "100%|████████████████████████████████████████████████████████████████████████████████| 100/100 [08:59<00:00,  5.39s/it]"
     ]
    },
    {
     "name": "stdout",
     "output_type": "stream",
     "text": [
      "RMSE score on train sample: 1484.68\n",
      "\n",
      "CPU times: total: 8min 59s\n",
      "Wall time: 8min 59s\n"
     ]
    },
    {
     "name": "stderr",
     "output_type": "stream",
     "text": [
      "\n"
     ]
    }
   ],
   "source": [
    "%%time\n",
    "\n",
    "n = 100\n",
    "nu = 0.1\n",
    "trees = []\n",
    "\n",
    "train_oe = df_ohe[:int(len(df_oe.index)/4 * 3)]\n",
    "test_oe = df_ohe[int(len(df_oe.index)/4 * 3):]\n",
    "train_oe['y_pred'] = train_oe['price'].mean()\n",
    "\n",
    "for i in trange(n):\n",
    "    train_oe['residual'] = train_oe['price'] - train_oe['y_pred']\n",
    "    tree = DecisionTreeRegressor(max_depth=10)\n",
    "    tree.fit(train_oe.drop(['y_pred', 'residual', 'price'], axis=1), train_oe['residual'])\n",
    "    train_oe['y_pred'] += nu * tree.predict(train_oe.drop(['y_pred', 'residual', 'price'], axis=1))\n",
    "    trees.append(tree)\n",
    "    \n",
    "print(f'RMSE score on train sample: {round(mse(train_oe[\"price\"], train_oe[\"y_pred\"]) ** 0.5, 3)}\\n')"
   ]
  },
  {
   "cell_type": "code",
   "execution_count": 53,
   "metadata": {},
   "outputs": [
    {
     "name": "stdout",
     "output_type": "stream",
     "text": [
      "Test RMSE = 1734.182\n",
      "\n",
      "CPU times: total: 18.7 s\n",
      "Wall time: 18.7 s\n"
     ]
    }
   ],
   "source": [
    "%%time\n",
    "\n",
    "test_oe['y_pred'] = test_oe['price'].mean()\n",
    "\n",
    "for tree in trees:\n",
    "    test_oe['y_pred'] += nu * tree.predict(test_oe.drop(['y_pred', 'price'], axis=1))\n",
    "\n",
    "print(f'Test RMSE = {round(mse(test_oe[\"price\"], test_oe[\"y_pred\"]) ** 0.5, 3)}\\n')"
   ]
  },
  {
   "cell_type": "markdown",
   "metadata": {},
   "source": [
    "### 3.7 RandomForest (oe)"
   ]
  },
  {
   "cell_type": "code",
   "execution_count": 54,
   "metadata": {},
   "outputs": [
    {
     "name": "stdout",
     "output_type": "stream",
     "text": [
      "RMSE score on train sample: 1040.796\n",
      "\n",
      "CPU times: total: 54min 25s\n",
      "Wall time: 2min 26s\n"
     ]
    }
   ],
   "source": [
    "%%time\n",
    "\n",
    "RF = RandomForestRegressor(criterion = \"mse\", random_state=RND, n_estimators = 100, n_jobs=-1)\n",
    "RF.fit(train_oe.drop(['y_pred', 'residual', 'price'], axis=1), train_oe['price'])\n",
    "\n",
    "print(f'RMSE score on train sample: {round(mse(train_oe[\"price\"], RF.predict(train_oe.drop([\"y_pred\", \"residual\", \"price\"], axis=1))) ** 0.5, 3)}\\n')"
   ]
  },
  {
   "cell_type": "code",
   "execution_count": 55,
   "metadata": {},
   "outputs": [
    {
     "name": "stdout",
     "output_type": "stream",
     "text": [
      "Test RMSE = 1768.556\n",
      "\n",
      "CPU times: total: 12 s\n",
      "Wall time: 731 ms\n"
     ]
    }
   ],
   "source": [
    "%%time\n",
    "\n",
    "print(f'Test RMSE = {round(mse(test_oe[\"price\"], RF.predict(test_oe.drop([\"y_pred\", \"price\"], axis=1))) ** 0.5, 3)}\\n')"
   ]
  },
  {
   "cell_type": "markdown",
   "metadata": {},
   "source": [
    "### 3.8 ohe vs oe"
   ]
  },
  {
   "cell_type": "code",
   "execution_count": 58,
   "metadata": {},
   "outputs": [
    {
     "data": {
      "text/html": [
       "<div>\n",
       "<style scoped>\n",
       "    .dataframe tbody tr th:only-of-type {\n",
       "        vertical-align: middle;\n",
       "    }\n",
       "\n",
       "    .dataframe tbody tr th {\n",
       "        vertical-align: top;\n",
       "    }\n",
       "\n",
       "    .dataframe thead th {\n",
       "        text-align: right;\n",
       "    }\n",
       "</style>\n",
       "<table border=\"1\" class=\"dataframe\">\n",
       "  <thead>\n",
       "    <tr style=\"text-align: right;\">\n",
       "      <th></th>\n",
       "      <th>Model</th>\n",
       "      <th>Train RMSE</th>\n",
       "      <th>Test RMSE</th>\n",
       "      <th>Train Time, sec</th>\n",
       "      <th>Test Time, sec</th>\n",
       "    </tr>\n",
       "  </thead>\n",
       "  <tbody>\n",
       "    <tr>\n",
       "      <th>0</th>\n",
       "      <td>RandomForest (ohe)</td>\n",
       "      <td>1040.796</td>\n",
       "      <td>1768.556</td>\n",
       "      <td>2 м. 25 сек.</td>\n",
       "      <td>741 мс</td>\n",
       "    </tr>\n",
       "    <tr>\n",
       "      <th>1</th>\n",
       "      <td>RandomForest (oe)</td>\n",
       "      <td>1040.796</td>\n",
       "      <td>1768.556</td>\n",
       "      <td>2 м. 26 сек.</td>\n",
       "      <td>731 мс.</td>\n",
       "    </tr>\n",
       "    <tr>\n",
       "      <th>2</th>\n",
       "      <td>Simpleboost (ohe)</td>\n",
       "      <td>1483.386</td>\n",
       "      <td>1734.115</td>\n",
       "      <td>8 м. 54 сек.</td>\n",
       "      <td>17.7 сек.</td>\n",
       "    </tr>\n",
       "    <tr>\n",
       "      <th>3</th>\n",
       "      <td>Simpleboost (oe)</td>\n",
       "      <td>1484.680</td>\n",
       "      <td>1734.182</td>\n",
       "      <td>8 м. 59 сек.</td>\n",
       "      <td>18.7 сек.</td>\n",
       "    </tr>\n",
       "  </tbody>\n",
       "</table>\n",
       "</div>"
      ],
      "text/plain": [
       "                Model  Train RMSE  Test RMSE Train Time, sec Test Time, sec\n",
       "0  RandomForest (ohe)    1040.796   1768.556    2 м. 25 сек.         741 мс\n",
       "1   RandomForest (oe)    1040.796   1768.556    2 м. 26 сек.        731 мс.\n",
       "2   Simpleboost (ohe)    1483.386   1734.115    8 м. 54 сек.      17.7 сек.\n",
       "3    Simpleboost (oe)    1484.680   1734.182    8 м. 59 сек.      18.7 сек."
      ]
     },
     "metadata": {},
     "output_type": "display_data"
    }
   ],
   "source": [
    "results = {\n",
    "    'Model' : ['RandomForest (ohe)','RandomForest (oe)', 'Simpleboost (ohe)', 'Simpleboost (oe)'],\n",
    "    'Train RMSE' :pd.Series([1040.796, 1040.796, 1483.386, 1484.68]),\n",
    "    'Test RMSE' :pd.Series([1768.556, 1768.556, 1734.115, 1734.182]),\n",
    "    'Train Time, sec': pd.Series(['2 м. 25 сек.', '2 м. 26 сек.', '8 м. 54 сек.', '8 м. 59 сек.']),\n",
    "    'Test Time, sec': pd.Series(['741 мс', '731 мс.', '17.7 сек.', '18.7 сек.']),\n",
    "    }\n",
    "\n",
    "display(pd.DataFrame(results))"
   ]
  },
  {
   "cell_type": "markdown",
   "metadata": {},
   "source": [
    "**Итог:**\n",
    "* При использовании `ohe` с `RandomForest` модель обучилась на 1 сек. быстрее\n",
    "* При использовании `ohe` с `Simpleboost` модель обучилась на 5 сек быстрее\n",
    "\n",
    "Время обучения/предсказания не должно зависить от кодирования признаков, а получившийся разброс Simpleboost получился из-за того, что я не использовал `random_seed`.\n",
    "\n",
    "На мой взгляд, у прямого кодирования преимущество только в том, что он работает со всеми моделями, в том числе подходит и для логистической регрессии, когда все признаки должны стать количественными."
   ]
  },
  {
   "cell_type": "markdown",
   "metadata": {},
   "source": [
    "## 4. Анализ моделей"
   ]
  },
  {
   "cell_type": "markdown",
   "metadata": {},
   "source": [
    "Мы провели анализ и обработку данных. Подготовили их и обучили модели на их основе. Нашли лучшие гиперпараметры для моделей и протестировали их на тестовой выборке, применив метрику RMSE.\n",
    "\n"
   ]
  },
  {
   "cell_type": "code",
   "execution_count": 56,
   "metadata": {},
   "outputs": [
    {
     "data": {
      "text/html": [
       "<div>\n",
       "<style scoped>\n",
       "    .dataframe tbody tr th:only-of-type {\n",
       "        vertical-align: middle;\n",
       "    }\n",
       "\n",
       "    .dataframe tbody tr th {\n",
       "        vertical-align: top;\n",
       "    }\n",
       "\n",
       "    .dataframe thead th {\n",
       "        text-align: right;\n",
       "    }\n",
       "</style>\n",
       "<table border=\"1\" class=\"dataframe\">\n",
       "  <thead>\n",
       "    <tr style=\"text-align: right;\">\n",
       "      <th></th>\n",
       "      <th>Model</th>\n",
       "      <th>Train RMSE</th>\n",
       "      <th>Test RMSE</th>\n",
       "      <th>Train Time, sec</th>\n",
       "      <th>Test Time, sec</th>\n",
       "    </tr>\n",
       "  </thead>\n",
       "  <tbody>\n",
       "    <tr>\n",
       "      <th>0</th>\n",
       "      <td>LightGBM</td>\n",
       "      <td>1623.023</td>\n",
       "      <td>1606.584</td>\n",
       "      <td>10.4 сек.</td>\n",
       "      <td>1.35 сек</td>\n",
       "    </tr>\n",
       "    <tr>\n",
       "      <th>1</th>\n",
       "      <td>Catboost</td>\n",
       "      <td>1669.798</td>\n",
       "      <td>1606.584</td>\n",
       "      <td>39 сек.</td>\n",
       "      <td>7.16 сек.</td>\n",
       "    </tr>\n",
       "    <tr>\n",
       "      <th>2</th>\n",
       "      <td>RandomForest</td>\n",
       "      <td>1040.796</td>\n",
       "      <td>1768.556</td>\n",
       "      <td>2 м. 24 сек.</td>\n",
       "      <td>817 мс.</td>\n",
       "    </tr>\n",
       "    <tr>\n",
       "      <th>3</th>\n",
       "      <td>Simpleboost</td>\n",
       "      <td>1483.384</td>\n",
       "      <td>1733.330</td>\n",
       "      <td>8 м. 56 сек.</td>\n",
       "      <td>17.8 сек.</td>\n",
       "    </tr>\n",
       "  </tbody>\n",
       "</table>\n",
       "</div>"
      ],
      "text/plain": [
       "          Model  Train RMSE  Test RMSE Train Time, sec Test Time, sec\n",
       "0      LightGBM    1623.023   1606.584       10.4 сек.       1.35 сек\n",
       "1      Catboost    1669.798   1606.584         39 сек.      7.16 сек.\n",
       "2  RandomForest    1040.796   1768.556    2 м. 24 сек.        817 мс.\n",
       "3   Simpleboost    1483.384   1733.330    8 м. 56 сек.      17.8 сек."
      ]
     },
     "metadata": {},
     "output_type": "display_data"
    }
   ],
   "source": [
    "results = {\n",
    "    'Model' : ['LightGBM', 'Catboost', 'RandomForest','Simpleboost'],\n",
    "    'Train RMSE' :pd.Series([1623.023, 1669.798, 1040.796, 1483.384]),\n",
    "    'Test RMSE' :pd.Series([1606.584, 1606.584, 1768.556, 1733.33]),\n",
    "    'Train Time, sec': pd.Series(['10.4 сек.', '39 сек.', '2 м. 24 сек.', '8 м. 56 сек.']),\n",
    "    'Test Time, sec': pd.Series(['1.35 сек', '7.16 сек.', '817 мс.', '17.8 сек.']),\n",
    "    }\n",
    "display(pd.DataFrame(results))"
   ]
  },
  {
   "cell_type": "markdown",
   "metadata": {},
   "source": [
    "Исходя из полученных результатов можно сделать вывод:\n",
    "* Все рассмотренные модели преодолели порог в 2500.\n",
    "* Наименьшую ошибку на тесте выдают `CatBoost` и `LightGBM`.\n",
    "* `LightGBM` самая лучшая модель из всех (по скорости и по скору).\n",
    "* Похоже `RandomForest` и `Simpleboost` переобучились на тренировочной выборке, но показили примерно похожий скор на тесте\n",
    "* `Simpleboost` самая долгая модель из всех.\n",
    "\n",
    "Основываясь на этом, можно сделать вывод, что лучше всего подойдет модель построенная на `LightGBM`"
   ]
  }
 ],
 "metadata": {
  "ExecuteTimeLog": [
   {
    "duration": 44,
    "start_time": "2022-06-27T05:24:37.923Z"
   },
   {
    "duration": 1559,
    "start_time": "2022-06-27T05:24:42.567Z"
   },
   {
    "duration": 1016,
    "start_time": "2022-06-27T05:24:45.149Z"
   },
   {
    "duration": 125,
    "start_time": "2022-06-27T05:24:57.653Z"
   },
   {
    "duration": 94,
    "start_time": "2022-06-27T05:25:18.275Z"
   },
   {
    "duration": 13,
    "start_time": "2022-06-27T05:25:29.404Z"
   },
   {
    "duration": 2,
    "start_time": "2022-06-27T05:27:05.876Z"
   },
   {
    "duration": 645,
    "start_time": "2022-06-27T05:27:17.041Z"
   },
   {
    "duration": 4,
    "start_time": "2022-06-27T05:28:48.870Z"
   },
   {
    "duration": 1365,
    "start_time": "2022-06-27T05:28:50.783Z"
   },
   {
    "duration": 70,
    "start_time": "2022-06-27T05:35:44.531Z"
   },
   {
    "duration": 78,
    "start_time": "2022-06-27T05:35:50.836Z"
   },
   {
    "duration": 352,
    "start_time": "2022-06-27T05:35:56.946Z"
   },
   {
    "duration": 83,
    "start_time": "2022-06-27T05:36:01.458Z"
   },
   {
    "duration": 74,
    "start_time": "2022-06-27T05:36:10.906Z"
   },
   {
    "duration": 75,
    "start_time": "2022-06-27T05:36:14.698Z"
   },
   {
    "duration": 87,
    "start_time": "2022-06-27T05:36:51.377Z"
   },
   {
    "duration": 90,
    "start_time": "2022-06-27T05:36:55.200Z"
   },
   {
    "duration": 193,
    "start_time": "2022-06-27T05:36:58.529Z"
   },
   {
    "duration": 48,
    "start_time": "2022-06-27T05:37:08.425Z"
   },
   {
    "duration": 87,
    "start_time": "2022-06-27T05:37:11.057Z"
   },
   {
    "duration": 76,
    "start_time": "2022-06-27T05:37:23.335Z"
   },
   {
    "duration": 84,
    "start_time": "2022-06-27T05:38:22.486Z"
   },
   {
    "duration": 86,
    "start_time": "2022-06-27T05:38:43.511Z"
   },
   {
    "duration": 80,
    "start_time": "2022-06-27T05:38:50.537Z"
   },
   {
    "duration": 72,
    "start_time": "2022-06-27T05:39:16.079Z"
   },
   {
    "duration": 73,
    "start_time": "2022-06-27T05:39:27.981Z"
   },
   {
    "duration": 81,
    "start_time": "2022-06-27T05:39:30.651Z"
   },
   {
    "duration": 70,
    "start_time": "2022-06-27T05:39:39.118Z"
   },
   {
    "duration": 93,
    "start_time": "2022-06-27T05:40:41.114Z"
   },
   {
    "duration": 76,
    "start_time": "2022-06-27T05:40:57.283Z"
   },
   {
    "duration": 86,
    "start_time": "2022-06-27T05:41:01.720Z"
   },
   {
    "duration": 86,
    "start_time": "2022-06-27T05:41:04.457Z"
   },
   {
    "duration": 199,
    "start_time": "2022-06-27T05:41:14.107Z"
   },
   {
    "duration": 86,
    "start_time": "2022-06-27T05:41:44.410Z"
   },
   {
    "duration": 191,
    "start_time": "2022-06-27T05:42:15.040Z"
   },
   {
    "duration": 205,
    "start_time": "2022-06-27T05:42:25.415Z"
   },
   {
    "duration": 26,
    "start_time": "2022-06-27T05:42:41.090Z"
   },
   {
    "duration": 25,
    "start_time": "2022-06-27T05:42:44.895Z"
   },
   {
    "duration": 149,
    "start_time": "2022-06-27T05:43:11.599Z"
   },
   {
    "duration": 146,
    "start_time": "2022-06-27T05:43:22.455Z"
   },
   {
    "duration": 211,
    "start_time": "2022-06-27T05:43:41.509Z"
   },
   {
    "duration": 230,
    "start_time": "2022-06-27T05:43:46.247Z"
   },
   {
    "duration": 200,
    "start_time": "2022-06-27T05:43:51.214Z"
   },
   {
    "duration": 3,
    "start_time": "2022-06-27T07:07:23.424Z"
   },
   {
    "duration": 1698,
    "start_time": "2022-06-27T07:07:30.333Z"
   },
   {
    "duration": 3,
    "start_time": "2022-06-27T07:07:40.865Z"
   },
   {
    "duration": 1539,
    "start_time": "2022-06-27T07:07:42.169Z"
   },
   {
    "duration": 124,
    "start_time": "2022-06-27T07:09:57.966Z"
   },
   {
    "duration": 118,
    "start_time": "2022-06-27T07:10:58.997Z"
   },
   {
    "duration": 245,
    "start_time": "2022-06-27T07:11:32.691Z"
   },
   {
    "duration": 6,
    "start_time": "2022-06-27T07:11:38.475Z"
   },
   {
    "duration": 261,
    "start_time": "2022-06-27T07:14:50.429Z"
   },
   {
    "duration": 8,
    "start_time": "2022-06-27T07:14:51.974Z"
   },
   {
    "duration": 119,
    "start_time": "2022-06-27T07:15:27.510Z"
   },
   {
    "duration": 1195,
    "start_time": "2022-06-27T07:15:33.397Z"
   },
   {
    "duration": 119,
    "start_time": "2022-06-27T07:15:40.262Z"
   },
   {
    "duration": 11,
    "start_time": "2022-06-27T07:15:40.668Z"
   },
   {
    "duration": 137,
    "start_time": "2022-06-27T07:19:03.147Z"
   },
   {
    "duration": 8,
    "start_time": "2022-06-27T07:19:03.728Z"
   },
   {
    "duration": 189,
    "start_time": "2022-06-27T07:19:24.000Z"
   },
   {
    "duration": 8,
    "start_time": "2022-06-27T07:19:25.654Z"
   },
   {
    "duration": 5,
    "start_time": "2022-06-27T07:19:57.207Z"
   },
   {
    "duration": 1628,
    "start_time": "2022-06-27T07:19:57.438Z"
   },
   {
    "duration": 2,
    "start_time": "2022-06-27T07:35:36.054Z"
   },
   {
    "duration": 2,
    "start_time": "2022-06-27T07:35:52.749Z"
   },
   {
    "duration": 45,
    "start_time": "2022-06-28T06:21:29.632Z"
   },
   {
    "duration": 1753,
    "start_time": "2022-06-28T06:21:36.107Z"
   },
   {
    "duration": 1021,
    "start_time": "2022-06-28T06:21:37.863Z"
   },
   {
    "duration": 4,
    "start_time": "2022-06-28T06:21:38.886Z"
   },
   {
    "duration": 1603,
    "start_time": "2022-06-28T06:21:38.891Z"
   },
   {
    "duration": 121,
    "start_time": "2022-06-28T06:21:40.496Z"
   },
   {
    "duration": 3,
    "start_time": "2022-06-28T06:26:52.772Z"
   },
   {
    "duration": 21,
    "start_time": "2022-06-28T06:26:58.045Z"
   },
   {
    "duration": 1480,
    "start_time": "2022-06-28T06:27:15.423Z"
   },
   {
    "duration": 754,
    "start_time": "2022-06-28T06:27:16.905Z"
   },
   {
    "duration": 5,
    "start_time": "2022-06-28T06:27:17.660Z"
   },
   {
    "duration": 1587,
    "start_time": "2022-06-28T06:27:17.667Z"
   },
   {
    "duration": 43,
    "start_time": "2022-06-28T06:27:19.256Z"
   },
   {
    "duration": 1416,
    "start_time": "2022-06-28T06:28:32.550Z"
   },
   {
    "duration": 792,
    "start_time": "2022-06-28T06:28:33.968Z"
   },
   {
    "duration": 5,
    "start_time": "2022-06-28T06:28:34.762Z"
   },
   {
    "duration": 1708,
    "start_time": "2022-06-28T06:28:34.768Z"
   },
   {
    "duration": 51,
    "start_time": "2022-06-28T06:28:36.478Z"
   },
   {
    "duration": 116,
    "start_time": "2022-06-28T06:35:25.154Z"
   },
   {
    "duration": 17,
    "start_time": "2022-06-28T06:36:01.254Z"
   },
   {
    "duration": 13,
    "start_time": "2022-06-28T06:36:22.395Z"
   },
   {
    "duration": 9,
    "start_time": "2022-06-28T06:36:32.893Z"
   },
   {
    "duration": 10,
    "start_time": "2022-06-28T06:36:36.681Z"
   },
   {
    "duration": 11,
    "start_time": "2022-06-28T06:36:41.227Z"
   },
   {
    "duration": 5,
    "start_time": "2022-06-28T06:37:06.522Z"
   },
   {
    "duration": 10,
    "start_time": "2022-06-28T06:37:29.184Z"
   },
   {
    "duration": 705,
    "start_time": "2022-06-28T06:38:13.295Z"
   },
   {
    "duration": 10,
    "start_time": "2022-06-28T06:38:26.808Z"
   },
   {
    "duration": 33,
    "start_time": "2022-06-28T06:38:42.456Z"
   },
   {
    "duration": 518,
    "start_time": "2022-06-28T06:38:44.438Z"
   },
   {
    "duration": 3,
    "start_time": "2022-06-28T06:39:08.358Z"
   },
   {
    "duration": 3,
    "start_time": "2022-06-28T06:39:14.167Z"
   },
   {
    "duration": 4,
    "start_time": "2022-06-28T06:39:23.302Z"
   },
   {
    "duration": 3,
    "start_time": "2022-06-28T06:39:28.292Z"
   },
   {
    "duration": 9154,
    "start_time": "2022-06-28T06:41:44.483Z"
   },
   {
    "duration": 714,
    "start_time": "2022-06-28T06:42:20.530Z"
   },
   {
    "duration": 73,
    "start_time": "2022-06-28T06:42:25.824Z"
   },
   {
    "duration": 11,
    "start_time": "2022-06-28T06:42:51.552Z"
   },
   {
    "duration": 3,
    "start_time": "2022-06-28T06:45:32.827Z"
   },
   {
    "duration": 4,
    "start_time": "2022-06-28T06:45:35.011Z"
   },
   {
    "duration": 1126,
    "start_time": "2022-06-28T06:45:54.484Z"
   },
   {
    "duration": 6,
    "start_time": "2022-06-28T06:45:56.049Z"
   },
   {
    "duration": 38,
    "start_time": "2022-06-28T06:46:25.522Z"
   },
   {
    "duration": 6,
    "start_time": "2022-06-28T06:46:26.353Z"
   },
   {
    "duration": 4,
    "start_time": "2022-06-28T06:46:29.753Z"
   },
   {
    "duration": 5,
    "start_time": "2022-06-28T06:46:29.999Z"
   },
   {
    "duration": 3,
    "start_time": "2022-06-28T06:46:34.817Z"
   },
   {
    "duration": 73,
    "start_time": "2022-06-28T06:49:23.229Z"
   },
   {
    "duration": 12,
    "start_time": "2022-06-28T06:49:24.381Z"
   },
   {
    "duration": 834,
    "start_time": "2022-06-28T06:50:06.183Z"
   },
   {
    "duration": 1527,
    "start_time": "2022-06-28T06:50:19.180Z"
   },
   {
    "duration": 824,
    "start_time": "2022-06-28T06:50:20.709Z"
   },
   {
    "duration": 5,
    "start_time": "2022-06-28T06:50:21.535Z"
   },
   {
    "duration": 1720,
    "start_time": "2022-06-28T06:50:21.542Z"
   },
   {
    "duration": 53,
    "start_time": "2022-06-28T06:50:23.264Z"
   },
   {
    "duration": 36,
    "start_time": "2022-06-28T06:50:23.328Z"
   },
   {
    "duration": 103,
    "start_time": "2022-06-28T06:50:23.366Z"
   },
   {
    "duration": 851,
    "start_time": "2022-06-28T06:50:23.471Z"
   },
   {
    "duration": 134,
    "start_time": "2022-06-28T06:50:35.591Z"
   },
   {
    "duration": 7,
    "start_time": "2022-06-28T06:50:36.729Z"
   },
   {
    "duration": 16,
    "start_time": "2022-06-28T06:50:44.495Z"
   },
   {
    "duration": 1319,
    "start_time": "2022-06-28T06:57:25.493Z"
   },
   {
    "duration": 18,
    "start_time": "2022-06-28T06:57:27.557Z"
   },
   {
    "duration": 1342,
    "start_time": "2022-06-28T06:57:39.679Z"
   },
   {
    "duration": 800,
    "start_time": "2022-06-28T06:57:41.023Z"
   },
   {
    "duration": 4,
    "start_time": "2022-06-28T06:57:41.825Z"
   },
   {
    "duration": 1633,
    "start_time": "2022-06-28T06:57:41.830Z"
   },
   {
    "duration": 46,
    "start_time": "2022-06-28T06:57:43.465Z"
   },
   {
    "duration": 52,
    "start_time": "2022-06-28T06:57:43.512Z"
   },
   {
    "duration": 1179,
    "start_time": "2022-06-28T06:57:43.566Z"
   },
   {
    "duration": 16,
    "start_time": "2022-06-28T06:57:44.747Z"
   },
   {
    "duration": 104,
    "start_time": "2022-06-28T07:06:31.830Z"
   },
   {
    "duration": 3,
    "start_time": "2022-06-28T07:06:35.133Z"
   },
   {
    "duration": 9,
    "start_time": "2022-06-28T07:06:35.671Z"
   },
   {
    "duration": 11,
    "start_time": "2022-06-28T07:12:17.900Z"
   },
   {
    "duration": 11,
    "start_time": "2022-06-28T07:12:32.605Z"
   },
   {
    "duration": 10,
    "start_time": "2022-06-28T07:12:36.530Z"
   },
   {
    "duration": 17,
    "start_time": "2022-06-28T07:12:42.195Z"
   },
   {
    "duration": 9,
    "start_time": "2022-06-28T07:12:54.211Z"
   },
   {
    "duration": 19,
    "start_time": "2022-06-28T07:13:03.134Z"
   },
   {
    "duration": 10,
    "start_time": "2022-06-28T07:16:24.902Z"
   },
   {
    "duration": 3,
    "start_time": "2022-06-28T07:16:27.789Z"
   },
   {
    "duration": 2167,
    "start_time": "2022-06-28T07:16:28.253Z"
   },
   {
    "duration": 19,
    "start_time": "2022-06-28T07:16:33.013Z"
   },
   {
    "duration": 1530,
    "start_time": "2022-06-28T07:16:53.819Z"
   },
   {
    "duration": 795,
    "start_time": "2022-06-28T07:16:55.351Z"
   },
   {
    "duration": 5,
    "start_time": "2022-06-28T07:16:56.147Z"
   },
   {
    "duration": 1841,
    "start_time": "2022-06-28T07:16:56.154Z"
   },
   {
    "duration": 46,
    "start_time": "2022-06-28T07:16:57.997Z"
   },
   {
    "duration": 3,
    "start_time": "2022-06-28T07:16:58.045Z"
   },
   {
    "duration": 2193,
    "start_time": "2022-06-28T07:16:58.050Z"
   },
   {
    "duration": 18,
    "start_time": "2022-06-28T07:17:00.245Z"
   },
   {
    "duration": 4,
    "start_time": "2022-06-28T07:18:35.881Z"
   },
   {
    "duration": 1587,
    "start_time": "2022-06-28T07:29:15.319Z"
   },
   {
    "duration": 810,
    "start_time": "2022-06-28T07:29:16.908Z"
   },
   {
    "duration": 4,
    "start_time": "2022-06-28T07:29:17.720Z"
   },
   {
    "duration": 1635,
    "start_time": "2022-06-28T07:29:17.725Z"
   },
   {
    "duration": 45,
    "start_time": "2022-06-28T07:29:19.362Z"
   },
   {
    "duration": 6,
    "start_time": "2022-06-28T07:29:19.408Z"
   },
   {
    "duration": 34,
    "start_time": "2022-06-28T07:29:19.415Z"
   },
   {
    "duration": 2161,
    "start_time": "2022-06-28T07:29:19.450Z"
   },
   {
    "duration": 80,
    "start_time": "2022-06-28T07:35:31.914Z"
   },
   {
    "duration": 3,
    "start_time": "2022-06-28T07:35:51.458Z"
   },
   {
    "duration": 1458,
    "start_time": "2022-06-28T07:39:36.965Z"
   },
   {
    "duration": 794,
    "start_time": "2022-06-28T07:39:38.425Z"
   },
   {
    "duration": 4,
    "start_time": "2022-06-28T07:39:39.221Z"
   },
   {
    "duration": 1681,
    "start_time": "2022-06-28T07:39:39.226Z"
   },
   {
    "duration": 48,
    "start_time": "2022-06-28T07:39:40.909Z"
   },
   {
    "duration": 3,
    "start_time": "2022-06-28T07:39:40.959Z"
   },
   {
    "duration": 7,
    "start_time": "2022-06-28T07:39:40.963Z"
   },
   {
    "duration": 24,
    "start_time": "2022-06-28T07:39:40.971Z"
   },
   {
    "duration": 2227,
    "start_time": "2022-06-28T07:39:40.997Z"
   },
   {
    "duration": 112,
    "start_time": "2022-06-28T07:39:43.226Z"
   },
   {
    "duration": 4,
    "start_time": "2022-06-28T07:40:32.393Z"
   },
   {
    "duration": 3,
    "start_time": "2022-06-28T07:41:09.240Z"
   },
   {
    "duration": 76,
    "start_time": "2022-06-28T07:41:12.575Z"
   },
   {
    "duration": 3,
    "start_time": "2022-06-28T07:41:32.423Z"
   },
   {
    "duration": 74,
    "start_time": "2022-06-28T07:41:35.310Z"
   },
   {
    "duration": 2,
    "start_time": "2022-06-28T07:41:48.239Z"
   },
   {
    "duration": 89,
    "start_time": "2022-06-28T07:41:50.334Z"
   },
   {
    "duration": 3,
    "start_time": "2022-06-28T07:42:12.677Z"
   },
   {
    "duration": 74,
    "start_time": "2022-06-28T07:42:14.981Z"
   },
   {
    "duration": 3,
    "start_time": "2022-06-28T07:43:38.669Z"
   },
   {
    "duration": 72,
    "start_time": "2022-06-28T07:43:40.418Z"
   },
   {
    "duration": 3,
    "start_time": "2022-06-28T07:44:02.354Z"
   },
   {
    "duration": 144,
    "start_time": "2022-06-28T07:44:04.250Z"
   },
   {
    "duration": 3,
    "start_time": "2022-06-28T07:45:43.656Z"
   },
   {
    "duration": 142,
    "start_time": "2022-06-28T07:45:45.808Z"
   },
   {
    "duration": 398,
    "start_time": "2022-06-28T07:57:26.268Z"
   },
   {
    "duration": 11,
    "start_time": "2022-06-28T07:59:50.594Z"
   },
   {
    "duration": 72,
    "start_time": "2022-06-28T07:59:55.415Z"
   },
   {
    "duration": 25,
    "start_time": "2022-06-28T08:00:23.735Z"
   },
   {
    "duration": 29,
    "start_time": "2022-06-28T08:00:39.135Z"
   },
   {
    "duration": 57,
    "start_time": "2022-06-28T08:01:19.470Z"
   },
   {
    "duration": 53,
    "start_time": "2022-06-28T08:01:29.886Z"
   },
   {
    "duration": 897,
    "start_time": "2022-06-28T08:01:34.639Z"
   },
   {
    "duration": 1038,
    "start_time": "2022-06-28T08:03:09.602Z"
   },
   {
    "duration": 777,
    "start_time": "2022-06-28T08:03:17.555Z"
   },
   {
    "duration": 750,
    "start_time": "2022-06-28T08:03:39.635Z"
   },
   {
    "duration": 1414,
    "start_time": "2022-06-28T08:03:54.088Z"
   },
   {
    "duration": 819,
    "start_time": "2022-06-28T08:03:55.504Z"
   },
   {
    "duration": 5,
    "start_time": "2022-06-28T08:03:56.326Z"
   },
   {
    "duration": 1646,
    "start_time": "2022-06-28T08:03:56.333Z"
   },
   {
    "duration": 46,
    "start_time": "2022-06-28T08:03:57.981Z"
   },
   {
    "duration": 3,
    "start_time": "2022-06-28T08:03:58.029Z"
   },
   {
    "duration": 7,
    "start_time": "2022-06-28T08:03:58.033Z"
   },
   {
    "duration": 29,
    "start_time": "2022-06-28T08:03:58.041Z"
   },
   {
    "duration": 2112,
    "start_time": "2022-06-28T08:03:58.072Z"
   },
   {
    "duration": 149,
    "start_time": "2022-06-28T08:04:00.186Z"
   },
   {
    "duration": 163,
    "start_time": "2022-06-28T08:04:00.337Z"
   },
   {
    "duration": 869,
    "start_time": "2022-06-28T08:04:09.484Z"
   },
   {
    "duration": 818,
    "start_time": "2022-06-28T08:04:17.033Z"
   },
   {
    "duration": 8,
    "start_time": "2022-06-28T08:04:24.775Z"
   },
   {
    "duration": 1421,
    "start_time": "2022-06-28T08:04:47.190Z"
   },
   {
    "duration": 805,
    "start_time": "2022-06-28T08:04:48.613Z"
   },
   {
    "duration": 4,
    "start_time": "2022-06-28T08:04:49.420Z"
   },
   {
    "duration": 1738,
    "start_time": "2022-06-28T08:04:49.427Z"
   },
   {
    "duration": 48,
    "start_time": "2022-06-28T08:04:51.167Z"
   },
   {
    "duration": 4,
    "start_time": "2022-06-28T08:04:51.226Z"
   },
   {
    "duration": 8,
    "start_time": "2022-06-28T08:04:51.231Z"
   },
   {
    "duration": 29,
    "start_time": "2022-06-28T08:04:51.240Z"
   },
   {
    "duration": 2153,
    "start_time": "2022-06-28T08:04:51.271Z"
   },
   {
    "duration": 158,
    "start_time": "2022-06-28T08:04:53.426Z"
   },
   {
    "duration": 905,
    "start_time": "2022-06-28T08:04:53.585Z"
   },
   {
    "duration": 0,
    "start_time": "2022-06-28T08:04:54.492Z"
   },
   {
    "duration": 8,
    "start_time": "2022-06-28T08:04:57.291Z"
   },
   {
    "duration": 1420,
    "start_time": "2022-06-28T08:05:21.002Z"
   },
   {
    "duration": 775,
    "start_time": "2022-06-28T08:05:22.424Z"
   },
   {
    "duration": 4,
    "start_time": "2022-06-28T08:05:23.201Z"
   },
   {
    "duration": 1692,
    "start_time": "2022-06-28T08:05:23.206Z"
   },
   {
    "duration": 48,
    "start_time": "2022-06-28T08:05:24.900Z"
   },
   {
    "duration": 4,
    "start_time": "2022-06-28T08:05:24.949Z"
   },
   {
    "duration": 19,
    "start_time": "2022-06-28T08:05:24.955Z"
   },
   {
    "duration": 48,
    "start_time": "2022-06-28T08:05:24.975Z"
   },
   {
    "duration": 2197,
    "start_time": "2022-06-28T08:05:25.025Z"
   },
   {
    "duration": 177,
    "start_time": "2022-06-28T08:05:27.224Z"
   },
   {
    "duration": 28,
    "start_time": "2022-06-28T08:05:27.403Z"
   },
   {
    "duration": 1093,
    "start_time": "2022-06-28T08:05:27.433Z"
   },
   {
    "duration": 0,
    "start_time": "2022-06-28T08:05:28.527Z"
   },
   {
    "duration": 6,
    "start_time": "2022-06-28T08:05:53.990Z"
   },
   {
    "duration": 1409,
    "start_time": "2022-06-28T08:05:59.174Z"
   },
   {
    "duration": 818,
    "start_time": "2022-06-28T08:06:00.585Z"
   },
   {
    "duration": 4,
    "start_time": "2022-06-28T08:06:01.405Z"
   },
   {
    "duration": 1651,
    "start_time": "2022-06-28T08:06:01.411Z"
   },
   {
    "duration": 41,
    "start_time": "2022-06-28T08:06:03.064Z"
   },
   {
    "duration": 4,
    "start_time": "2022-06-28T08:06:03.106Z"
   },
   {
    "duration": 16,
    "start_time": "2022-06-28T08:06:03.111Z"
   },
   {
    "duration": 22,
    "start_time": "2022-06-28T08:06:03.129Z"
   },
   {
    "duration": 2196,
    "start_time": "2022-06-28T08:06:03.153Z"
   },
   {
    "duration": 146,
    "start_time": "2022-06-28T08:06:05.351Z"
   },
   {
    "duration": 18,
    "start_time": "2022-06-28T08:06:05.499Z"
   },
   {
    "duration": 163,
    "start_time": "2022-06-28T08:06:05.528Z"
   },
   {
    "duration": 0,
    "start_time": "2022-06-28T08:06:05.693Z"
   },
   {
    "duration": 28,
    "start_time": "2022-06-28T08:06:18.660Z"
   },
   {
    "duration": 33,
    "start_time": "2022-06-28T08:06:55.645Z"
   },
   {
    "duration": 24,
    "start_time": "2022-06-28T08:07:04.334Z"
   },
   {
    "duration": 156,
    "start_time": "2022-06-28T08:07:12.868Z"
   },
   {
    "duration": 18,
    "start_time": "2022-06-28T08:07:15.033Z"
   },
   {
    "duration": 158,
    "start_time": "2022-06-28T08:07:26.708Z"
   },
   {
    "duration": 13,
    "start_time": "2022-06-28T08:08:34.953Z"
   },
   {
    "duration": 16,
    "start_time": "2022-06-28T08:08:38.900Z"
   },
   {
    "duration": 87,
    "start_time": "2022-06-28T08:09:37.680Z"
   },
   {
    "duration": 151,
    "start_time": "2022-06-28T08:11:04.301Z"
   },
   {
    "duration": 11,
    "start_time": "2022-06-28T08:15:31.287Z"
   },
   {
    "duration": 74,
    "start_time": "2022-06-28T08:15:35.230Z"
   },
   {
    "duration": 85,
    "start_time": "2022-06-28T08:15:43.070Z"
   },
   {
    "duration": 10,
    "start_time": "2022-06-28T08:17:33.139Z"
   },
   {
    "duration": 5153,
    "start_time": "2022-06-28T08:17:42.899Z"
   },
   {
    "duration": 146,
    "start_time": "2022-06-28T08:18:20.921Z"
   },
   {
    "duration": 121,
    "start_time": "2022-06-28T08:18:28.042Z"
   },
   {
    "duration": 105,
    "start_time": "2022-06-28T08:18:32.977Z"
   },
   {
    "duration": 4,
    "start_time": "2022-06-28T08:24:12.350Z"
   },
   {
    "duration": 27,
    "start_time": "2022-06-28T08:24:19.311Z"
   },
   {
    "duration": 26,
    "start_time": "2022-06-28T08:24:25.327Z"
   },
   {
    "duration": 27,
    "start_time": "2022-06-28T08:24:41.503Z"
   },
   {
    "duration": 13,
    "start_time": "2022-06-28T08:25:34.765Z"
   },
   {
    "duration": 28,
    "start_time": "2022-06-28T08:25:47.932Z"
   },
   {
    "duration": 133,
    "start_time": "2022-06-28T08:26:34.443Z"
   },
   {
    "duration": 141,
    "start_time": "2022-06-28T08:26:50.723Z"
   },
   {
    "duration": 144,
    "start_time": "2022-06-28T08:27:00.071Z"
   },
   {
    "duration": 147,
    "start_time": "2022-06-28T08:29:05.344Z"
   },
   {
    "duration": 1395,
    "start_time": "2022-06-28T08:29:11.029Z"
   },
   {
    "duration": 823,
    "start_time": "2022-06-28T08:29:12.426Z"
   },
   {
    "duration": 5,
    "start_time": "2022-06-28T08:29:13.251Z"
   },
   {
    "duration": 1676,
    "start_time": "2022-06-28T08:29:13.258Z"
   },
   {
    "duration": 43,
    "start_time": "2022-06-28T08:29:14.936Z"
   },
   {
    "duration": 4,
    "start_time": "2022-06-28T08:29:14.980Z"
   },
   {
    "duration": 5,
    "start_time": "2022-06-28T08:29:14.985Z"
   },
   {
    "duration": 44,
    "start_time": "2022-06-28T08:29:14.992Z"
   },
   {
    "duration": 2180,
    "start_time": "2022-06-28T08:29:15.038Z"
   },
   {
    "duration": 160,
    "start_time": "2022-06-28T08:29:17.220Z"
   },
   {
    "duration": 173,
    "start_time": "2022-06-28T08:29:17.382Z"
   },
   {
    "duration": 144,
    "start_time": "2022-06-28T08:29:17.556Z"
   },
   {
    "duration": 88,
    "start_time": "2022-06-28T08:29:17.701Z"
   },
   {
    "duration": 86,
    "start_time": "2022-06-28T08:29:17.791Z"
   },
   {
    "duration": 253,
    "start_time": "2022-06-28T08:29:17.879Z"
   },
   {
    "duration": 0,
    "start_time": "2022-06-28T08:29:18.134Z"
   },
   {
    "duration": 814,
    "start_time": "2022-06-28T08:29:47.946Z"
   },
   {
    "duration": 141,
    "start_time": "2022-06-28T08:30:24.577Z"
   },
   {
    "duration": 142,
    "start_time": "2022-06-28T08:30:46.088Z"
   },
   {
    "duration": 1043,
    "start_time": "2022-06-28T08:30:49.505Z"
   },
   {
    "duration": 954,
    "start_time": "2022-06-28T08:31:23.191Z"
   },
   {
    "duration": 4,
    "start_time": "2022-06-28T08:36:45.273Z"
   },
   {
    "duration": 4,
    "start_time": "2022-06-28T08:37:52.563Z"
   },
   {
    "duration": 1419,
    "start_time": "2022-06-28T08:41:30.433Z"
   },
   {
    "duration": 770,
    "start_time": "2022-06-28T08:41:31.854Z"
   },
   {
    "duration": 4,
    "start_time": "2022-06-28T08:41:32.626Z"
   },
   {
    "duration": 1603,
    "start_time": "2022-06-28T08:41:32.632Z"
   },
   {
    "duration": 39,
    "start_time": "2022-06-28T08:41:34.237Z"
   },
   {
    "duration": 15,
    "start_time": "2022-06-28T08:41:34.277Z"
   },
   {
    "duration": 12,
    "start_time": "2022-06-28T08:41:34.294Z"
   },
   {
    "duration": 28,
    "start_time": "2022-06-28T08:41:34.307Z"
   },
   {
    "duration": 2166,
    "start_time": "2022-06-28T08:41:34.337Z"
   },
   {
    "duration": 149,
    "start_time": "2022-06-28T08:41:36.505Z"
   },
   {
    "duration": 163,
    "start_time": "2022-06-28T08:41:36.656Z"
   },
   {
    "duration": 144,
    "start_time": "2022-06-28T08:41:36.821Z"
   },
   {
    "duration": 87,
    "start_time": "2022-06-28T08:41:36.966Z"
   },
   {
    "duration": 3,
    "start_time": "2022-06-28T08:41:37.056Z"
   },
   {
    "duration": 4,
    "start_time": "2022-06-28T08:41:37.061Z"
   },
   {
    "duration": 96,
    "start_time": "2022-06-28T08:41:37.067Z"
   },
   {
    "duration": 207,
    "start_time": "2022-06-28T08:42:14.573Z"
   },
   {
    "duration": 169,
    "start_time": "2022-06-28T08:46:51.826Z"
   },
   {
    "duration": 56,
    "start_time": "2022-06-28T08:47:35.393Z"
   },
   {
    "duration": 188,
    "start_time": "2022-06-28T08:47:51.154Z"
   },
   {
    "duration": 139,
    "start_time": "2022-06-28T08:49:10.336Z"
   },
   {
    "duration": 48,
    "start_time": "2022-06-28T08:49:58.023Z"
   },
   {
    "duration": 1486,
    "start_time": "2022-06-28T09:16:30.048Z"
   },
   {
    "duration": 779,
    "start_time": "2022-06-28T09:16:31.536Z"
   },
   {
    "duration": 5,
    "start_time": "2022-06-28T09:16:32.317Z"
   },
   {
    "duration": 1614,
    "start_time": "2022-06-28T09:16:32.327Z"
   },
   {
    "duration": 38,
    "start_time": "2022-06-28T09:16:33.943Z"
   },
   {
    "duration": 3,
    "start_time": "2022-06-28T09:16:33.983Z"
   },
   {
    "duration": 8,
    "start_time": "2022-06-28T09:16:33.987Z"
   },
   {
    "duration": 35,
    "start_time": "2022-06-28T09:16:33.996Z"
   },
   {
    "duration": 2160,
    "start_time": "2022-06-28T09:16:34.033Z"
   },
   {
    "duration": 184,
    "start_time": "2022-06-28T09:16:36.195Z"
   },
   {
    "duration": 186,
    "start_time": "2022-06-28T09:16:36.381Z"
   },
   {
    "duration": 140,
    "start_time": "2022-06-28T09:16:36.569Z"
   },
   {
    "duration": 86,
    "start_time": "2022-06-28T09:16:36.711Z"
   },
   {
    "duration": 4,
    "start_time": "2022-06-28T09:16:36.799Z"
   },
   {
    "duration": 5,
    "start_time": "2022-06-28T09:16:36.804Z"
   },
   {
    "duration": 97,
    "start_time": "2022-06-28T09:16:36.811Z"
   },
   {
    "duration": 189,
    "start_time": "2022-06-28T09:16:36.910Z"
   },
   {
    "duration": 134,
    "start_time": "2022-06-28T09:16:37.101Z"
   },
   {
    "duration": 221,
    "start_time": "2022-06-28T09:16:37.236Z"
   },
   {
    "duration": 176,
    "start_time": "2022-06-28T09:16:37.458Z"
   },
   {
    "duration": 217,
    "start_time": "2022-06-28T09:16:37.636Z"
   },
   {
    "duration": 149,
    "start_time": "2022-06-28T09:16:37.855Z"
   },
   {
    "duration": 137,
    "start_time": "2022-06-28T09:19:04.382Z"
   },
   {
    "duration": 62,
    "start_time": "2022-06-28T09:37:54.607Z"
   },
   {
    "duration": 70,
    "start_time": "2022-06-28T09:38:23.598Z"
   },
   {
    "duration": 11,
    "start_time": "2022-06-28T11:30:06.670Z"
   },
   {
    "duration": 13,
    "start_time": "2022-06-28T11:34:15.569Z"
   },
   {
    "duration": 24,
    "start_time": "2022-06-28T11:35:57.157Z"
   },
   {
    "duration": 112,
    "start_time": "2022-06-28T11:37:16.017Z"
   },
   {
    "duration": 5,
    "start_time": "2022-06-28T11:37:21.737Z"
   },
   {
    "duration": 20,
    "start_time": "2022-06-28T11:37:33.593Z"
   },
   {
    "duration": 9,
    "start_time": "2022-06-28T11:40:24.963Z"
   },
   {
    "duration": 122,
    "start_time": "2022-06-28T11:40:48.812Z"
   },
   {
    "duration": 119,
    "start_time": "2022-06-28T11:40:58.468Z"
   },
   {
    "duration": 152,
    "start_time": "2022-06-28T11:41:23.588Z"
   },
   {
    "duration": 158,
    "start_time": "2022-06-28T11:41:37.274Z"
   },
   {
    "duration": 234,
    "start_time": "2022-06-28T11:42:10.258Z"
   },
   {
    "duration": 165,
    "start_time": "2022-06-28T11:42:28.697Z"
   },
   {
    "duration": 152,
    "start_time": "2022-06-28T11:42:38.409Z"
   },
   {
    "duration": 329,
    "start_time": "2022-06-28T11:44:36.990Z"
   },
   {
    "duration": 319,
    "start_time": "2022-06-28T11:45:17.061Z"
   },
   {
    "duration": 303,
    "start_time": "2022-06-28T11:45:22.317Z"
   },
   {
    "duration": 281,
    "start_time": "2022-06-28T11:45:38.718Z"
   },
   {
    "duration": 439,
    "start_time": "2022-06-28T11:45:53.251Z"
   },
   {
    "duration": 295,
    "start_time": "2022-06-28T11:45:59.262Z"
   },
   {
    "duration": 315,
    "start_time": "2022-06-28T12:01:09.578Z"
   },
   {
    "duration": 309,
    "start_time": "2022-06-28T12:01:23.644Z"
   },
   {
    "duration": 302,
    "start_time": "2022-06-28T12:01:32.234Z"
   },
   {
    "duration": 428,
    "start_time": "2022-06-28T12:14:32.655Z"
   },
   {
    "duration": 456,
    "start_time": "2022-06-28T13:15:23.530Z"
   },
   {
    "duration": 337,
    "start_time": "2022-06-28T13:15:32.543Z"
   },
   {
    "duration": 43,
    "start_time": "2022-06-28T13:17:26.964Z"
   },
   {
    "duration": 9,
    "start_time": "2022-06-28T13:17:37.259Z"
   },
   {
    "duration": 10,
    "start_time": "2022-06-28T13:21:09.881Z"
   },
   {
    "duration": 7,
    "start_time": "2022-06-28T13:21:27.758Z"
   },
   {
    "duration": 8,
    "start_time": "2022-06-28T13:21:36.062Z"
   },
   {
    "duration": 1489,
    "start_time": "2022-06-28T13:22:40.188Z"
   },
   {
    "duration": 746,
    "start_time": "2022-06-28T13:22:41.678Z"
   },
   {
    "duration": 4,
    "start_time": "2022-06-28T13:22:42.425Z"
   },
   {
    "duration": 1589,
    "start_time": "2022-06-28T13:22:42.430Z"
   },
   {
    "duration": 40,
    "start_time": "2022-06-28T13:22:44.026Z"
   },
   {
    "duration": 3,
    "start_time": "2022-06-28T13:22:44.068Z"
   },
   {
    "duration": 6,
    "start_time": "2022-06-28T13:22:44.072Z"
   },
   {
    "duration": 25,
    "start_time": "2022-06-28T13:22:44.079Z"
   },
   {
    "duration": 2103,
    "start_time": "2022-06-28T13:22:44.105Z"
   },
   {
    "duration": 190,
    "start_time": "2022-06-28T13:22:46.210Z"
   },
   {
    "duration": 192,
    "start_time": "2022-06-28T13:22:46.402Z"
   },
   {
    "duration": 140,
    "start_time": "2022-06-28T13:22:46.596Z"
   },
   {
    "duration": 93,
    "start_time": "2022-06-28T13:22:46.737Z"
   },
   {
    "duration": 3,
    "start_time": "2022-06-28T13:22:46.833Z"
   },
   {
    "duration": 6,
    "start_time": "2022-06-28T13:22:46.838Z"
   },
   {
    "duration": 93,
    "start_time": "2022-06-28T13:22:46.845Z"
   },
   {
    "duration": 181,
    "start_time": "2022-06-28T13:22:46.940Z"
   },
   {
    "duration": 130,
    "start_time": "2022-06-28T13:22:47.123Z"
   },
   {
    "duration": 197,
    "start_time": "2022-06-28T13:22:47.255Z"
   },
   {
    "duration": 158,
    "start_time": "2022-06-28T13:22:47.453Z"
   },
   {
    "duration": 201,
    "start_time": "2022-06-28T13:22:47.613Z"
   },
   {
    "duration": 134,
    "start_time": "2022-06-28T13:22:47.815Z"
   },
   {
    "duration": 12,
    "start_time": "2022-06-28T13:22:47.950Z"
   },
   {
    "duration": 23,
    "start_time": "2022-06-28T13:22:47.963Z"
   },
   {
    "duration": 150,
    "start_time": "2022-06-28T13:22:47.988Z"
   },
   {
    "duration": 437,
    "start_time": "2022-06-28T13:22:48.140Z"
   },
   {
    "duration": 25,
    "start_time": "2022-06-28T13:22:48.579Z"
   },
   {
    "duration": 46,
    "start_time": "2022-06-28T13:22:48.605Z"
   },
   {
    "duration": 35,
    "start_time": "2022-06-28T13:43:02.377Z"
   },
   {
    "duration": 3066,
    "start_time": "2022-06-28T13:44:09.925Z"
   },
   {
    "duration": 1387,
    "start_time": "2022-06-28T13:44:43.149Z"
   },
   {
    "duration": 817,
    "start_time": "2022-06-28T13:44:44.538Z"
   },
   {
    "duration": 4,
    "start_time": "2022-06-28T13:44:45.357Z"
   },
   {
    "duration": 1851,
    "start_time": "2022-06-28T13:44:45.363Z"
   },
   {
    "duration": 51,
    "start_time": "2022-06-28T13:44:47.216Z"
   },
   {
    "duration": 4,
    "start_time": "2022-06-28T13:44:47.269Z"
   },
   {
    "duration": 28,
    "start_time": "2022-06-28T13:44:47.275Z"
   },
   {
    "duration": 33,
    "start_time": "2022-06-28T13:44:47.305Z"
   },
   {
    "duration": 2254,
    "start_time": "2022-06-28T13:44:47.339Z"
   },
   {
    "duration": 165,
    "start_time": "2022-06-28T13:44:49.595Z"
   },
   {
    "duration": 192,
    "start_time": "2022-06-28T13:44:49.762Z"
   },
   {
    "duration": 154,
    "start_time": "2022-06-28T13:44:49.955Z"
   },
   {
    "duration": 103,
    "start_time": "2022-06-28T13:44:50.111Z"
   },
   {
    "duration": 5,
    "start_time": "2022-06-28T13:44:50.228Z"
   },
   {
    "duration": 9,
    "start_time": "2022-06-28T13:44:50.235Z"
   },
   {
    "duration": 96,
    "start_time": "2022-06-28T13:44:50.246Z"
   },
   {
    "duration": 189,
    "start_time": "2022-06-28T13:44:50.343Z"
   },
   {
    "duration": 137,
    "start_time": "2022-06-28T13:44:50.534Z"
   },
   {
    "duration": 200,
    "start_time": "2022-06-28T13:44:50.673Z"
   },
   {
    "duration": 197,
    "start_time": "2022-06-28T13:44:50.874Z"
   },
   {
    "duration": 205,
    "start_time": "2022-06-28T13:44:51.072Z"
   },
   {
    "duration": 142,
    "start_time": "2022-06-28T13:44:51.279Z"
   },
   {
    "duration": 13,
    "start_time": "2022-06-28T13:44:51.429Z"
   },
   {
    "duration": 42,
    "start_time": "2022-06-28T13:44:51.443Z"
   },
   {
    "duration": 146,
    "start_time": "2022-06-28T13:44:51.487Z"
   },
   {
    "duration": 460,
    "start_time": "2022-06-28T13:44:51.635Z"
   },
   {
    "duration": 39,
    "start_time": "2022-06-28T13:44:52.097Z"
   },
   {
    "duration": 2884,
    "start_time": "2022-06-28T13:44:52.138Z"
   },
   {
    "duration": 346,
    "start_time": "2022-06-28T13:45:25.250Z"
   },
   {
    "duration": 45,
    "start_time": "2022-06-28T13:46:06.832Z"
   },
   {
    "duration": 306,
    "start_time": "2022-06-28T13:48:00.174Z"
   },
   {
    "duration": 352,
    "start_time": "2022-06-28T13:48:09.878Z"
   },
   {
    "duration": 164,
    "start_time": "2022-06-28T13:48:17.836Z"
   },
   {
    "duration": 432,
    "start_time": "2022-06-28T13:48:46.460Z"
   },
   {
    "duration": 1478,
    "start_time": "2022-06-28T13:49:42.859Z"
   },
   {
    "duration": 124,
    "start_time": "2022-06-28T13:51:43.912Z"
   },
   {
    "duration": 26,
    "start_time": "2022-06-28T13:54:08.802Z"
   },
   {
    "duration": 176,
    "start_time": "2022-06-28T13:55:00.212Z"
   },
   {
    "duration": 1523,
    "start_time": "2022-06-28T13:55:18.464Z"
   },
   {
    "duration": 782,
    "start_time": "2022-06-28T13:55:19.990Z"
   },
   {
    "duration": 4,
    "start_time": "2022-06-28T13:55:20.774Z"
   },
   {
    "duration": 1640,
    "start_time": "2022-06-28T13:55:20.780Z"
   },
   {
    "duration": 47,
    "start_time": "2022-06-28T13:55:22.423Z"
   },
   {
    "duration": 26,
    "start_time": "2022-06-28T13:55:22.472Z"
   },
   {
    "duration": 30,
    "start_time": "2022-06-28T13:55:22.500Z"
   },
   {
    "duration": 41,
    "start_time": "2022-06-28T13:55:22.532Z"
   },
   {
    "duration": 2248,
    "start_time": "2022-06-28T13:55:22.575Z"
   },
   {
    "duration": 156,
    "start_time": "2022-06-28T13:55:24.825Z"
   },
   {
    "duration": 182,
    "start_time": "2022-06-28T13:55:24.982Z"
   },
   {
    "duration": 162,
    "start_time": "2022-06-28T13:55:25.166Z"
   },
   {
    "duration": 98,
    "start_time": "2022-06-28T13:55:25.330Z"
   },
   {
    "duration": 4,
    "start_time": "2022-06-28T13:55:25.431Z"
   },
   {
    "duration": 6,
    "start_time": "2022-06-28T13:55:25.437Z"
   },
   {
    "duration": 99,
    "start_time": "2022-06-28T13:55:25.444Z"
   },
   {
    "duration": 195,
    "start_time": "2022-06-28T13:55:25.544Z"
   },
   {
    "duration": 144,
    "start_time": "2022-06-28T13:55:25.740Z"
   },
   {
    "duration": 212,
    "start_time": "2022-06-28T13:55:25.885Z"
   },
   {
    "duration": 206,
    "start_time": "2022-06-28T13:55:26.099Z"
   },
   {
    "duration": 275,
    "start_time": "2022-06-28T13:55:26.307Z"
   },
   {
    "duration": 150,
    "start_time": "2022-06-28T13:55:26.584Z"
   },
   {
    "duration": 12,
    "start_time": "2022-06-28T13:55:26.736Z"
   },
   {
    "duration": 24,
    "start_time": "2022-06-28T13:55:26.749Z"
   },
   {
    "duration": 165,
    "start_time": "2022-06-28T13:55:26.775Z"
   },
   {
    "duration": 485,
    "start_time": "2022-06-28T13:55:26.942Z"
   },
   {
    "duration": 37,
    "start_time": "2022-06-28T13:55:27.428Z"
   },
   {
    "duration": 2882,
    "start_time": "2022-06-28T13:55:27.466Z"
   },
   {
    "duration": 363,
    "start_time": "2022-06-28T13:55:30.350Z"
   },
   {
    "duration": 133,
    "start_time": "2022-06-28T13:55:30.715Z"
   },
   {
    "duration": 25,
    "start_time": "2022-06-28T13:55:30.850Z"
   },
   {
    "duration": 191,
    "start_time": "2022-06-28T13:55:30.877Z"
   },
   {
    "duration": 216,
    "start_time": "2022-06-28T13:56:10.591Z"
   },
   {
    "duration": 190,
    "start_time": "2022-06-28T13:56:43.790Z"
   },
   {
    "duration": 188,
    "start_time": "2022-06-28T13:57:06.974Z"
   },
   {
    "duration": 183,
    "start_time": "2022-06-28T13:57:17.148Z"
   },
   {
    "duration": 163,
    "start_time": "2022-06-28T13:58:12.484Z"
   },
   {
    "duration": 172,
    "start_time": "2022-06-28T13:58:16.291Z"
   },
   {
    "duration": 291,
    "start_time": "2022-06-28T13:58:40.475Z"
   },
   {
    "duration": 4,
    "start_time": "2022-06-28T13:58:55.586Z"
   },
   {
    "duration": 4,
    "start_time": "2022-06-28T13:59:35.490Z"
   },
   {
    "duration": 163,
    "start_time": "2022-06-28T14:02:35.973Z"
   },
   {
    "duration": 151,
    "start_time": "2022-06-28T14:02:55.948Z"
   },
   {
    "duration": 154,
    "start_time": "2022-06-28T14:03:16.482Z"
   },
   {
    "duration": 107,
    "start_time": "2022-06-28T14:03:58.089Z"
   },
   {
    "duration": 6,
    "start_time": "2022-06-28T14:05:17.040Z"
   },
   {
    "duration": 218,
    "start_time": "2022-06-28T14:56:16.427Z"
   },
   {
    "duration": 109,
    "start_time": "2022-06-28T14:56:38.594Z"
   },
   {
    "duration": 409,
    "start_time": "2022-06-28T14:56:41.906Z"
   },
   {
    "duration": 10,
    "start_time": "2022-06-28T14:56:59.319Z"
   },
   {
    "duration": 181,
    "start_time": "2022-06-28T14:57:03.226Z"
   },
   {
    "duration": 2,
    "start_time": "2022-06-28T14:57:35.552Z"
   },
   {
    "duration": 34,
    "start_time": "2022-06-28T14:57:58.406Z"
   },
   {
    "duration": 411,
    "start_time": "2022-06-28T14:58:19.559Z"
   },
   {
    "duration": 1719,
    "start_time": "2022-06-29T05:44:25.649Z"
   },
   {
    "duration": 1001,
    "start_time": "2022-06-29T05:44:27.371Z"
   },
   {
    "duration": 4,
    "start_time": "2022-06-29T05:44:28.374Z"
   },
   {
    "duration": 1483,
    "start_time": "2022-06-29T05:44:28.380Z"
   },
   {
    "duration": 42,
    "start_time": "2022-06-29T05:44:29.864Z"
   },
   {
    "duration": 6,
    "start_time": "2022-06-29T05:44:29.908Z"
   },
   {
    "duration": 5,
    "start_time": "2022-06-29T05:44:29.915Z"
   },
   {
    "duration": 34,
    "start_time": "2022-06-29T05:44:29.922Z"
   },
   {
    "duration": 2107,
    "start_time": "2022-06-29T05:44:29.958Z"
   },
   {
    "duration": 145,
    "start_time": "2022-06-29T05:44:32.068Z"
   },
   {
    "duration": 168,
    "start_time": "2022-06-29T05:44:32.214Z"
   },
   {
    "duration": 141,
    "start_time": "2022-06-29T05:44:32.384Z"
   },
   {
    "duration": 84,
    "start_time": "2022-06-29T05:44:32.527Z"
   },
   {
    "duration": 4,
    "start_time": "2022-06-29T05:44:32.613Z"
   },
   {
    "duration": 20,
    "start_time": "2022-06-29T05:44:32.619Z"
   },
   {
    "duration": 77,
    "start_time": "2022-06-29T05:44:32.641Z"
   },
   {
    "duration": 184,
    "start_time": "2022-06-29T05:44:32.720Z"
   },
   {
    "duration": 143,
    "start_time": "2022-06-29T05:44:32.906Z"
   },
   {
    "duration": 193,
    "start_time": "2022-06-29T05:44:33.051Z"
   },
   {
    "duration": 168,
    "start_time": "2022-06-29T05:44:33.246Z"
   },
   {
    "duration": 205,
    "start_time": "2022-06-29T05:44:33.416Z"
   },
   {
    "duration": 138,
    "start_time": "2022-06-29T05:44:33.623Z"
   },
   {
    "duration": 12,
    "start_time": "2022-06-29T05:44:33.762Z"
   },
   {
    "duration": 26,
    "start_time": "2022-06-29T05:44:33.775Z"
   },
   {
    "duration": 158,
    "start_time": "2022-06-29T05:44:33.803Z"
   },
   {
    "duration": 466,
    "start_time": "2022-06-29T05:44:33.963Z"
   },
   {
    "duration": 40,
    "start_time": "2022-06-29T05:44:34.431Z"
   },
   {
    "duration": 3097,
    "start_time": "2022-06-29T05:44:34.474Z"
   },
   {
    "duration": 359,
    "start_time": "2022-06-29T05:44:37.573Z"
   },
   {
    "duration": 140,
    "start_time": "2022-06-29T05:44:37.934Z"
   },
   {
    "duration": 28,
    "start_time": "2022-06-29T05:44:38.075Z"
   },
   {
    "duration": 199,
    "start_time": "2022-06-29T05:44:38.104Z"
   },
   {
    "duration": 148,
    "start_time": "2022-06-29T05:44:38.305Z"
   },
   {
    "duration": 182,
    "start_time": "2022-06-29T05:44:38.454Z"
   },
   {
    "duration": 182,
    "start_time": "2022-06-29T05:44:38.638Z"
   },
   {
    "duration": 327,
    "start_time": "2022-06-29T05:44:38.821Z"
   },
   {
    "duration": 189,
    "start_time": "2022-06-29T05:44:39.149Z"
   },
   {
    "duration": 441,
    "start_time": "2022-06-29T05:44:39.340Z"
   },
   {
    "duration": 2,
    "start_time": "2022-06-29T06:19:30.415Z"
   },
   {
    "duration": 58,
    "start_time": "2022-06-29T06:47:34.759Z"
   },
   {
    "duration": 1382,
    "start_time": "2022-06-29T06:52:27.073Z"
   },
   {
    "duration": 741,
    "start_time": "2022-06-29T06:52:28.457Z"
   },
   {
    "duration": 5,
    "start_time": "2022-06-29T06:52:29.200Z"
   },
   {
    "duration": 1578,
    "start_time": "2022-06-29T06:52:29.206Z"
   },
   {
    "duration": 41,
    "start_time": "2022-06-29T06:52:30.786Z"
   },
   {
    "duration": 4,
    "start_time": "2022-06-29T06:52:30.828Z"
   },
   {
    "duration": 25,
    "start_time": "2022-06-29T06:52:30.834Z"
   },
   {
    "duration": 42,
    "start_time": "2022-06-29T06:52:30.861Z"
   },
   {
    "duration": 2193,
    "start_time": "2022-06-29T06:52:30.905Z"
   },
   {
    "duration": 141,
    "start_time": "2022-06-29T06:52:33.100Z"
   },
   {
    "duration": 159,
    "start_time": "2022-06-29T06:52:33.243Z"
   },
   {
    "duration": 145,
    "start_time": "2022-06-29T06:52:33.404Z"
   },
   {
    "duration": 83,
    "start_time": "2022-06-29T06:52:33.551Z"
   },
   {
    "duration": 18,
    "start_time": "2022-06-29T06:52:33.637Z"
   },
   {
    "duration": 14,
    "start_time": "2022-06-29T06:52:33.657Z"
   },
   {
    "duration": 89,
    "start_time": "2022-06-29T06:52:33.673Z"
   },
   {
    "duration": 202,
    "start_time": "2022-06-29T06:52:33.764Z"
   },
   {
    "duration": 165,
    "start_time": "2022-06-29T06:52:33.968Z"
   },
   {
    "duration": 256,
    "start_time": "2022-06-29T06:52:34.135Z"
   },
   {
    "duration": 236,
    "start_time": "2022-06-29T06:52:34.393Z"
   },
   {
    "duration": 242,
    "start_time": "2022-06-29T06:52:34.632Z"
   },
   {
    "duration": 155,
    "start_time": "2022-06-29T06:52:34.875Z"
   },
   {
    "duration": 27,
    "start_time": "2022-06-29T06:52:35.031Z"
   },
   {
    "duration": 35,
    "start_time": "2022-06-29T06:52:35.061Z"
   },
   {
    "duration": 205,
    "start_time": "2022-06-29T06:52:35.099Z"
   },
   {
    "duration": 500,
    "start_time": "2022-06-29T06:52:35.306Z"
   },
   {
    "duration": 33,
    "start_time": "2022-06-29T06:52:35.808Z"
   },
   {
    "duration": 3138,
    "start_time": "2022-06-29T06:52:35.852Z"
   },
   {
    "duration": 363,
    "start_time": "2022-06-29T06:52:38.992Z"
   },
   {
    "duration": 148,
    "start_time": "2022-06-29T06:52:39.357Z"
   },
   {
    "duration": 45,
    "start_time": "2022-06-29T06:52:39.507Z"
   },
   {
    "duration": 193,
    "start_time": "2022-06-29T06:52:39.554Z"
   },
   {
    "duration": 162,
    "start_time": "2022-06-29T06:52:39.751Z"
   },
   {
    "duration": 192,
    "start_time": "2022-06-29T06:52:39.915Z"
   },
   {
    "duration": 192,
    "start_time": "2022-06-29T06:52:40.109Z"
   },
   {
    "duration": 257,
    "start_time": "2022-06-29T06:52:40.303Z"
   },
   {
    "duration": 178,
    "start_time": "2022-06-29T06:52:40.562Z"
   },
   {
    "duration": 399,
    "start_time": "2022-06-29T06:52:40.741Z"
   },
   {
    "duration": 64,
    "start_time": "2022-06-29T06:52:41.143Z"
   },
   {
    "duration": 19,
    "start_time": "2022-06-29T06:54:24.711Z"
   },
   {
    "duration": 1367,
    "start_time": "2022-06-29T06:56:19.464Z"
   },
   {
    "duration": 758,
    "start_time": "2022-06-29T06:56:20.833Z"
   },
   {
    "duration": 5,
    "start_time": "2022-06-29T06:56:21.592Z"
   },
   {
    "duration": 1636,
    "start_time": "2022-06-29T06:56:21.599Z"
   },
   {
    "duration": 49,
    "start_time": "2022-06-29T06:56:23.238Z"
   },
   {
    "duration": 4,
    "start_time": "2022-06-29T06:56:23.289Z"
   },
   {
    "duration": 8,
    "start_time": "2022-06-29T06:56:23.295Z"
   },
   {
    "duration": 31,
    "start_time": "2022-06-29T06:56:23.305Z"
   },
   {
    "duration": 2286,
    "start_time": "2022-06-29T06:56:23.337Z"
   },
   {
    "duration": 136,
    "start_time": "2022-06-29T06:56:25.625Z"
   },
   {
    "duration": 169,
    "start_time": "2022-06-29T06:56:25.762Z"
   },
   {
    "duration": 130,
    "start_time": "2022-06-29T06:56:25.933Z"
   },
   {
    "duration": 71,
    "start_time": "2022-06-29T06:56:26.065Z"
   },
   {
    "duration": 4,
    "start_time": "2022-06-29T06:56:26.152Z"
   },
   {
    "duration": 14,
    "start_time": "2022-06-29T06:56:26.158Z"
   },
   {
    "duration": 78,
    "start_time": "2022-06-29T06:56:26.174Z"
   },
   {
    "duration": 184,
    "start_time": "2022-06-29T06:56:26.254Z"
   },
   {
    "duration": 149,
    "start_time": "2022-06-29T06:56:26.440Z"
   },
   {
    "duration": 200,
    "start_time": "2022-06-29T06:56:26.591Z"
   },
   {
    "duration": 180,
    "start_time": "2022-06-29T06:56:26.792Z"
   },
   {
    "duration": 209,
    "start_time": "2022-06-29T06:56:26.974Z"
   },
   {
    "duration": 152,
    "start_time": "2022-06-29T06:56:27.185Z"
   },
   {
    "duration": 14,
    "start_time": "2022-06-29T06:56:27.339Z"
   },
   {
    "duration": 25,
    "start_time": "2022-06-29T06:56:27.354Z"
   },
   {
    "duration": 155,
    "start_time": "2022-06-29T06:56:27.380Z"
   },
   {
    "duration": 440,
    "start_time": "2022-06-29T06:56:27.537Z"
   },
   {
    "duration": 35,
    "start_time": "2022-06-29T06:56:27.979Z"
   },
   {
    "duration": 3008,
    "start_time": "2022-06-29T06:56:28.016Z"
   },
   {
    "duration": 383,
    "start_time": "2022-06-29T06:56:31.026Z"
   },
   {
    "duration": 128,
    "start_time": "2022-06-29T06:56:31.411Z"
   },
   {
    "duration": 38,
    "start_time": "2022-06-29T06:56:31.541Z"
   },
   {
    "duration": 177,
    "start_time": "2022-06-29T06:56:31.581Z"
   },
   {
    "duration": 152,
    "start_time": "2022-06-29T06:56:31.760Z"
   },
   {
    "duration": 187,
    "start_time": "2022-06-29T06:56:31.913Z"
   },
   {
    "duration": 176,
    "start_time": "2022-06-29T06:56:32.101Z"
   },
   {
    "duration": 221,
    "start_time": "2022-06-29T06:56:32.279Z"
   },
   {
    "duration": 198,
    "start_time": "2022-06-29T06:56:32.502Z"
   },
   {
    "duration": 421,
    "start_time": "2022-06-29T06:56:32.701Z"
   },
   {
    "duration": 9,
    "start_time": "2022-06-29T06:56:33.123Z"
   },
   {
    "duration": 1396,
    "start_time": "2022-06-29T08:48:05.731Z"
   },
   {
    "duration": 772,
    "start_time": "2022-06-29T08:48:07.129Z"
   },
   {
    "duration": 4,
    "start_time": "2022-06-29T08:48:07.902Z"
   },
   {
    "duration": 1532,
    "start_time": "2022-06-29T08:48:07.908Z"
   },
   {
    "duration": 49,
    "start_time": "2022-06-29T08:48:09.443Z"
   },
   {
    "duration": 4,
    "start_time": "2022-06-29T08:48:09.494Z"
   },
   {
    "duration": 10,
    "start_time": "2022-06-29T08:48:09.499Z"
   },
   {
    "duration": 22,
    "start_time": "2022-06-29T08:48:09.511Z"
   },
   {
    "duration": 2204,
    "start_time": "2022-06-29T08:48:09.535Z"
   },
   {
    "duration": 128,
    "start_time": "2022-06-29T08:48:11.741Z"
   },
   {
    "duration": 173,
    "start_time": "2022-06-29T08:48:11.871Z"
   },
   {
    "duration": 138,
    "start_time": "2022-06-29T08:48:12.046Z"
   },
   {
    "duration": 75,
    "start_time": "2022-06-29T08:48:12.185Z"
   },
   {
    "duration": 4,
    "start_time": "2022-06-29T08:48:12.263Z"
   },
   {
    "duration": 6,
    "start_time": "2022-06-29T08:48:12.268Z"
   },
   {
    "duration": 82,
    "start_time": "2022-06-29T08:48:12.276Z"
   },
   {
    "duration": 188,
    "start_time": "2022-06-29T08:48:12.360Z"
   },
   {
    "duration": 155,
    "start_time": "2022-06-29T08:48:12.553Z"
   },
   {
    "duration": 194,
    "start_time": "2022-06-29T08:48:12.709Z"
   },
   {
    "duration": 175,
    "start_time": "2022-06-29T08:48:12.906Z"
   },
   {
    "duration": 213,
    "start_time": "2022-06-29T08:48:13.083Z"
   },
   {
    "duration": 139,
    "start_time": "2022-06-29T08:48:13.298Z"
   },
   {
    "duration": 17,
    "start_time": "2022-06-29T08:48:13.438Z"
   },
   {
    "duration": 25,
    "start_time": "2022-06-29T08:48:13.456Z"
   },
   {
    "duration": 155,
    "start_time": "2022-06-29T08:48:13.482Z"
   },
   {
    "duration": 444,
    "start_time": "2022-06-29T08:48:13.639Z"
   },
   {
    "duration": 35,
    "start_time": "2022-06-29T08:48:14.084Z"
   },
   {
    "duration": 3042,
    "start_time": "2022-06-29T08:48:14.121Z"
   },
   {
    "duration": 360,
    "start_time": "2022-06-29T08:48:17.165Z"
   },
   {
    "duration": 138,
    "start_time": "2022-06-29T08:48:17.527Z"
   },
   {
    "duration": 26,
    "start_time": "2022-06-29T08:48:17.667Z"
   },
   {
    "duration": 202,
    "start_time": "2022-06-29T08:48:17.695Z"
   },
   {
    "duration": 150,
    "start_time": "2022-06-29T08:48:17.899Z"
   },
   {
    "duration": 174,
    "start_time": "2022-06-29T08:48:18.052Z"
   },
   {
    "duration": 172,
    "start_time": "2022-06-29T08:48:18.228Z"
   },
   {
    "duration": 242,
    "start_time": "2022-06-29T08:48:18.402Z"
   },
   {
    "duration": 180,
    "start_time": "2022-06-29T08:48:18.646Z"
   },
   {
    "duration": 366,
    "start_time": "2022-06-29T08:48:18.827Z"
   },
   {
    "duration": 116,
    "start_time": "2022-06-29T08:49:59.117Z"
   },
   {
    "duration": 35,
    "start_time": "2022-06-29T08:50:05.332Z"
   },
   {
    "duration": 520,
    "start_time": "2022-06-29T08:50:08.862Z"
   },
   {
    "duration": 33,
    "start_time": "2022-06-29T08:50:14.651Z"
   },
   {
    "duration": 655,
    "start_time": "2022-06-29T08:51:01.851Z"
   },
   {
    "duration": 32,
    "start_time": "2022-06-29T08:51:04.171Z"
   },
   {
    "duration": 22,
    "start_time": "2022-06-29T08:52:05.521Z"
   },
   {
    "duration": 177,
    "start_time": "2022-06-29T08:52:31.776Z"
   },
   {
    "duration": 209,
    "start_time": "2022-06-29T08:52:41.608Z"
   },
   {
    "duration": 1446,
    "start_time": "2022-06-29T08:53:32.604Z"
   },
   {
    "duration": 751,
    "start_time": "2022-06-29T08:53:34.052Z"
   },
   {
    "duration": 5,
    "start_time": "2022-06-29T08:53:34.805Z"
   },
   {
    "duration": 1619,
    "start_time": "2022-06-29T08:53:34.812Z"
   },
   {
    "duration": 48,
    "start_time": "2022-06-29T08:53:36.435Z"
   },
   {
    "duration": 4,
    "start_time": "2022-06-29T08:53:36.485Z"
   },
   {
    "duration": 8,
    "start_time": "2022-06-29T08:53:36.491Z"
   },
   {
    "duration": 35,
    "start_time": "2022-06-29T08:53:36.500Z"
   },
   {
    "duration": 2279,
    "start_time": "2022-06-29T08:53:36.537Z"
   },
   {
    "duration": 136,
    "start_time": "2022-06-29T08:53:38.818Z"
   },
   {
    "duration": 190,
    "start_time": "2022-06-29T08:53:38.956Z"
   },
   {
    "duration": 143,
    "start_time": "2022-06-29T08:53:39.148Z"
   },
   {
    "duration": 79,
    "start_time": "2022-06-29T08:53:39.293Z"
   },
   {
    "duration": 25,
    "start_time": "2022-06-29T08:53:39.375Z"
   },
   {
    "duration": 34,
    "start_time": "2022-06-29T08:53:39.402Z"
   },
   {
    "duration": 99,
    "start_time": "2022-06-29T08:53:39.437Z"
   },
   {
    "duration": 201,
    "start_time": "2022-06-29T08:53:39.537Z"
   },
   {
    "duration": 150,
    "start_time": "2022-06-29T08:53:39.740Z"
   },
   {
    "duration": 227,
    "start_time": "2022-06-29T08:53:39.892Z"
   },
   {
    "duration": 198,
    "start_time": "2022-06-29T08:53:40.121Z"
   },
   {
    "duration": 219,
    "start_time": "2022-06-29T08:53:40.321Z"
   },
   {
    "duration": 146,
    "start_time": "2022-06-29T08:53:40.541Z"
   },
   {
    "duration": 12,
    "start_time": "2022-06-29T08:53:40.688Z"
   },
   {
    "duration": 54,
    "start_time": "2022-06-29T08:53:40.702Z"
   },
   {
    "duration": 142,
    "start_time": "2022-06-29T08:53:40.758Z"
   },
   {
    "duration": 451,
    "start_time": "2022-06-29T08:53:40.901Z"
   },
   {
    "duration": 34,
    "start_time": "2022-06-29T08:53:41.354Z"
   },
   {
    "duration": 2985,
    "start_time": "2022-06-29T08:53:41.390Z"
   },
   {
    "duration": 348,
    "start_time": "2022-06-29T08:53:44.377Z"
   },
   {
    "duration": 138,
    "start_time": "2022-06-29T08:53:44.726Z"
   },
   {
    "duration": 31,
    "start_time": "2022-06-29T08:53:44.866Z"
   },
   {
    "duration": 199,
    "start_time": "2022-06-29T08:53:44.899Z"
   },
   {
    "duration": 152,
    "start_time": "2022-06-29T08:53:45.100Z"
   },
   {
    "duration": 193,
    "start_time": "2022-06-29T08:53:45.254Z"
   },
   {
    "duration": 208,
    "start_time": "2022-06-29T08:53:45.448Z"
   },
   {
    "duration": 238,
    "start_time": "2022-06-29T08:53:45.658Z"
   },
   {
    "duration": 176,
    "start_time": "2022-06-29T08:53:45.897Z"
   },
   {
    "duration": 352,
    "start_time": "2022-06-29T08:53:46.075Z"
   },
   {
    "duration": 733,
    "start_time": "2022-06-29T08:53:46.429Z"
   },
   {
    "duration": 30,
    "start_time": "2022-06-29T08:53:47.164Z"
   },
   {
    "duration": 1346,
    "start_time": "2022-06-29T09:01:05.894Z"
   },
   {
    "duration": 803,
    "start_time": "2022-06-29T09:01:07.242Z"
   },
   {
    "duration": 5,
    "start_time": "2022-06-29T09:01:08.049Z"
   },
   {
    "duration": 1516,
    "start_time": "2022-06-29T09:01:08.057Z"
   },
   {
    "duration": 45,
    "start_time": "2022-06-29T09:01:09.575Z"
   },
   {
    "duration": 4,
    "start_time": "2022-06-29T09:01:09.622Z"
   },
   {
    "duration": 5,
    "start_time": "2022-06-29T09:01:09.628Z"
   },
   {
    "duration": 33,
    "start_time": "2022-06-29T09:01:09.635Z"
   },
   {
    "duration": 2151,
    "start_time": "2022-06-29T09:01:09.669Z"
   },
   {
    "duration": 140,
    "start_time": "2022-06-29T09:01:11.821Z"
   },
   {
    "duration": 167,
    "start_time": "2022-06-29T09:01:11.963Z"
   },
   {
    "duration": 153,
    "start_time": "2022-06-29T09:01:12.131Z"
   },
   {
    "duration": 74,
    "start_time": "2022-06-29T09:01:12.287Z"
   },
   {
    "duration": 3,
    "start_time": "2022-06-29T09:01:12.363Z"
   },
   {
    "duration": 6,
    "start_time": "2022-06-29T09:01:12.368Z"
   },
   {
    "duration": 86,
    "start_time": "2022-06-29T09:01:12.375Z"
   },
   {
    "duration": 227,
    "start_time": "2022-06-29T09:01:12.462Z"
   },
   {
    "duration": 141,
    "start_time": "2022-06-29T09:01:12.691Z"
   },
   {
    "duration": 202,
    "start_time": "2022-06-29T09:01:12.834Z"
   },
   {
    "duration": 178,
    "start_time": "2022-06-29T09:01:13.038Z"
   },
   {
    "duration": 212,
    "start_time": "2022-06-29T09:01:13.218Z"
   },
   {
    "duration": 150,
    "start_time": "2022-06-29T09:01:13.431Z"
   },
   {
    "duration": 12,
    "start_time": "2022-06-29T09:01:13.583Z"
   },
   {
    "duration": 24,
    "start_time": "2022-06-29T09:01:13.596Z"
   },
   {
    "duration": 166,
    "start_time": "2022-06-29T09:01:13.621Z"
   },
   {
    "duration": 473,
    "start_time": "2022-06-29T09:01:13.788Z"
   },
   {
    "duration": 34,
    "start_time": "2022-06-29T09:01:14.262Z"
   },
   {
    "duration": 3045,
    "start_time": "2022-06-29T09:01:14.298Z"
   },
   {
    "duration": 359,
    "start_time": "2022-06-29T09:01:17.345Z"
   },
   {
    "duration": 131,
    "start_time": "2022-06-29T09:01:17.706Z"
   },
   {
    "duration": 35,
    "start_time": "2022-06-29T09:01:17.838Z"
   },
   {
    "duration": 180,
    "start_time": "2022-06-29T09:01:17.875Z"
   },
   {
    "duration": 158,
    "start_time": "2022-06-29T09:01:18.057Z"
   },
   {
    "duration": 183,
    "start_time": "2022-06-29T09:01:18.216Z"
   },
   {
    "duration": 182,
    "start_time": "2022-06-29T09:01:18.401Z"
   },
   {
    "duration": 226,
    "start_time": "2022-06-29T09:01:18.585Z"
   },
   {
    "duration": 179,
    "start_time": "2022-06-29T09:01:18.813Z"
   },
   {
    "duration": 370,
    "start_time": "2022-06-29T09:01:18.994Z"
   },
   {
    "duration": 847,
    "start_time": "2022-06-29T09:01:19.366Z"
   },
   {
    "duration": 511,
    "start_time": "2022-06-29T09:11:44.261Z"
   },
   {
    "duration": 3,
    "start_time": "2022-06-29T09:30:07.197Z"
   },
   {
    "duration": 60,
    "start_time": "2022-06-29T09:32:15.631Z"
   },
   {
    "duration": 126685,
    "start_time": "2022-06-29T09:33:38.281Z"
   },
   {
    "duration": 4,
    "start_time": "2022-06-29T09:36:11.545Z"
   },
   {
    "duration": 110,
    "start_time": "2022-06-29T09:36:31.883Z"
   },
   {
    "duration": 0,
    "start_time": "2022-06-29T09:36:59.452Z"
   },
   {
    "duration": 114291,
    "start_time": "2022-06-29T09:37:00.992Z"
   },
   {
    "duration": 0,
    "start_time": "2022-06-29T09:38:55.285Z"
   },
   {
    "duration": 12,
    "start_time": "2022-06-29T09:40:06.238Z"
   },
   {
    "duration": 135909,
    "start_time": "2022-06-29T09:40:16.759Z"
   },
   {
    "duration": 98077,
    "start_time": "2022-06-29T09:42:55.941Z"
   },
   {
    "duration": 1400,
    "start_time": "2022-06-29T09:46:57.789Z"
   },
   {
    "duration": 761,
    "start_time": "2022-06-29T09:46:59.191Z"
   },
   {
    "duration": 5,
    "start_time": "2022-06-29T09:46:59.953Z"
   },
   {
    "duration": 1569,
    "start_time": "2022-06-29T09:46:59.959Z"
   },
   {
    "duration": 45,
    "start_time": "2022-06-29T09:47:01.531Z"
   },
   {
    "duration": 3,
    "start_time": "2022-06-29T09:47:01.578Z"
   },
   {
    "duration": 29,
    "start_time": "2022-06-29T09:47:01.583Z"
   },
   {
    "duration": 30,
    "start_time": "2022-06-29T09:47:01.614Z"
   },
   {
    "duration": 2248,
    "start_time": "2022-06-29T09:47:01.646Z"
   },
   {
    "duration": 146,
    "start_time": "2022-06-29T09:47:03.896Z"
   },
   {
    "duration": 177,
    "start_time": "2022-06-29T09:47:04.044Z"
   },
   {
    "duration": 146,
    "start_time": "2022-06-29T09:47:04.223Z"
   },
   {
    "duration": 83,
    "start_time": "2022-06-29T09:47:04.370Z"
   },
   {
    "duration": 4,
    "start_time": "2022-06-29T09:47:04.455Z"
   },
   {
    "duration": 8,
    "start_time": "2022-06-29T09:47:04.460Z"
   },
   {
    "duration": 84,
    "start_time": "2022-06-29T09:47:04.469Z"
   },
   {
    "duration": 186,
    "start_time": "2022-06-29T09:47:04.554Z"
   },
   {
    "duration": 152,
    "start_time": "2022-06-29T09:47:04.741Z"
   },
   {
    "duration": 207,
    "start_time": "2022-06-29T09:47:04.895Z"
   },
   {
    "duration": 208,
    "start_time": "2022-06-29T09:47:05.103Z"
   },
   {
    "duration": 227,
    "start_time": "2022-06-29T09:47:05.313Z"
   },
   {
    "duration": 137,
    "start_time": "2022-06-29T09:47:05.542Z"
   },
   {
    "duration": 12,
    "start_time": "2022-06-29T09:47:05.681Z"
   },
   {
    "duration": 25,
    "start_time": "2022-06-29T09:47:05.694Z"
   },
   {
    "duration": 172,
    "start_time": "2022-06-29T09:47:05.721Z"
   },
   {
    "duration": 463,
    "start_time": "2022-06-29T09:47:05.894Z"
   },
   {
    "duration": 35,
    "start_time": "2022-06-29T09:47:06.359Z"
   },
   {
    "duration": 2920,
    "start_time": "2022-06-29T09:47:06.396Z"
   },
   {
    "duration": 347,
    "start_time": "2022-06-29T09:47:09.318Z"
   },
   {
    "duration": 139,
    "start_time": "2022-06-29T09:47:09.667Z"
   },
   {
    "duration": 27,
    "start_time": "2022-06-29T09:47:09.808Z"
   },
   {
    "duration": 199,
    "start_time": "2022-06-29T09:47:09.837Z"
   },
   {
    "duration": 164,
    "start_time": "2022-06-29T09:47:10.037Z"
   },
   {
    "duration": 175,
    "start_time": "2022-06-29T09:47:10.203Z"
   },
   {
    "duration": 176,
    "start_time": "2022-06-29T09:47:10.379Z"
   },
   {
    "duration": 243,
    "start_time": "2022-06-29T09:47:10.557Z"
   },
   {
    "duration": 187,
    "start_time": "2022-06-29T09:47:10.802Z"
   },
   {
    "duration": 381,
    "start_time": "2022-06-29T09:47:10.991Z"
   },
   {
    "duration": 882,
    "start_time": "2022-06-29T09:47:11.374Z"
   },
   {
    "duration": 556,
    "start_time": "2022-06-29T09:47:12.258Z"
   },
   {
    "duration": 138944,
    "start_time": "2022-06-29T09:47:12.818Z"
   },
   {
    "duration": 190338,
    "start_time": "2022-06-29T09:51:29.697Z"
   },
   {
    "duration": 1466,
    "start_time": "2022-06-29T09:59:49.263Z"
   },
   {
    "duration": 751,
    "start_time": "2022-06-29T09:59:50.731Z"
   },
   {
    "duration": 5,
    "start_time": "2022-06-29T09:59:51.483Z"
   },
   {
    "duration": 1585,
    "start_time": "2022-06-29T09:59:51.489Z"
   },
   {
    "duration": 41,
    "start_time": "2022-06-29T09:59:53.077Z"
   },
   {
    "duration": 9,
    "start_time": "2022-06-29T09:59:53.120Z"
   },
   {
    "duration": 6,
    "start_time": "2022-06-29T09:59:53.130Z"
   },
   {
    "duration": 38,
    "start_time": "2022-06-29T09:59:53.138Z"
   },
   {
    "duration": 2243,
    "start_time": "2022-06-29T09:59:53.178Z"
   },
   {
    "duration": 153,
    "start_time": "2022-06-29T09:59:55.424Z"
   },
   {
    "duration": 171,
    "start_time": "2022-06-29T09:59:55.579Z"
   },
   {
    "duration": 137,
    "start_time": "2022-06-29T09:59:55.752Z"
   },
   {
    "duration": 75,
    "start_time": "2022-06-29T09:59:55.891Z"
   },
   {
    "duration": 20,
    "start_time": "2022-06-29T09:59:55.970Z"
   },
   {
    "duration": 28,
    "start_time": "2022-06-29T09:59:55.991Z"
   },
   {
    "duration": 89,
    "start_time": "2022-06-29T09:59:56.021Z"
   },
   {
    "duration": 216,
    "start_time": "2022-06-29T09:59:56.112Z"
   },
   {
    "duration": 171,
    "start_time": "2022-06-29T09:59:56.331Z"
   },
   {
    "duration": 213,
    "start_time": "2022-06-29T09:59:56.504Z"
   },
   {
    "duration": 179,
    "start_time": "2022-06-29T09:59:56.719Z"
   },
   {
    "duration": 242,
    "start_time": "2022-06-29T09:59:56.900Z"
   },
   {
    "duration": 162,
    "start_time": "2022-06-29T09:59:57.144Z"
   },
   {
    "duration": 12,
    "start_time": "2022-06-29T09:59:57.308Z"
   },
   {
    "duration": 50,
    "start_time": "2022-06-29T09:59:57.321Z"
   },
   {
    "duration": 173,
    "start_time": "2022-06-29T09:59:57.373Z"
   },
   {
    "duration": 522,
    "start_time": "2022-06-29T09:59:57.548Z"
   },
   {
    "duration": 38,
    "start_time": "2022-06-29T09:59:58.072Z"
   },
   {
    "duration": 3155,
    "start_time": "2022-06-29T09:59:58.112Z"
   },
   {
    "duration": 355,
    "start_time": "2022-06-29T10:00:01.268Z"
   },
   {
    "duration": 150,
    "start_time": "2022-06-29T10:00:01.625Z"
   },
   {
    "duration": 29,
    "start_time": "2022-06-29T10:00:01.777Z"
   },
   {
    "duration": 222,
    "start_time": "2022-06-29T10:00:01.808Z"
   },
   {
    "duration": 159,
    "start_time": "2022-06-29T10:00:02.031Z"
   },
   {
    "duration": 177,
    "start_time": "2022-06-29T10:00:02.192Z"
   },
   {
    "duration": 184,
    "start_time": "2022-06-29T10:00:02.371Z"
   },
   {
    "duration": 302,
    "start_time": "2022-06-29T10:00:02.558Z"
   },
   {
    "duration": 184,
    "start_time": "2022-06-29T10:00:02.862Z"
   },
   {
    "duration": 349,
    "start_time": "2022-06-29T10:00:03.051Z"
   },
   {
    "duration": 908,
    "start_time": "2022-06-29T10:00:03.402Z"
   },
   {
    "duration": 521,
    "start_time": "2022-06-29T10:00:04.312Z"
   },
   {
    "duration": 290528,
    "start_time": "2022-06-29T10:00:04.837Z"
   },
   {
    "duration": 162,
    "start_time": "2022-06-29T10:07:55.920Z"
   },
   {
    "duration": 111684,
    "start_time": "2022-06-29T10:08:10.776Z"
   },
   {
    "duration": 110280,
    "start_time": "2022-06-29T10:12:39.179Z"
   },
   {
    "duration": 184595,
    "start_time": "2022-06-29T10:16:02.867Z"
   },
   {
    "duration": 1401,
    "start_time": "2022-06-29T10:31:39.072Z"
   },
   {
    "duration": 746,
    "start_time": "2022-06-29T10:31:40.475Z"
   },
   {
    "duration": 4,
    "start_time": "2022-06-29T10:31:41.223Z"
   },
   {
    "duration": 1538,
    "start_time": "2022-06-29T10:31:41.229Z"
   },
   {
    "duration": 42,
    "start_time": "2022-06-29T10:31:42.769Z"
   },
   {
    "duration": 4,
    "start_time": "2022-06-29T10:31:42.812Z"
   },
   {
    "duration": 10,
    "start_time": "2022-06-29T10:31:42.817Z"
   },
   {
    "duration": 36,
    "start_time": "2022-06-29T10:31:42.828Z"
   },
   {
    "duration": 2115,
    "start_time": "2022-06-29T10:31:42.866Z"
   },
   {
    "duration": 136,
    "start_time": "2022-06-29T10:31:44.983Z"
   },
   {
    "duration": 166,
    "start_time": "2022-06-29T10:31:45.120Z"
   },
   {
    "duration": 133,
    "start_time": "2022-06-29T10:31:45.287Z"
   },
   {
    "duration": 97,
    "start_time": "2022-06-29T10:31:45.423Z"
   },
   {
    "duration": 5,
    "start_time": "2022-06-29T10:31:45.524Z"
   },
   {
    "duration": 26,
    "start_time": "2022-06-29T10:31:45.531Z"
   },
   {
    "duration": 101,
    "start_time": "2022-06-29T10:31:45.559Z"
   },
   {
    "duration": 176,
    "start_time": "2022-06-29T10:31:45.661Z"
   },
   {
    "duration": 137,
    "start_time": "2022-06-29T10:31:45.838Z"
   },
   {
    "duration": 196,
    "start_time": "2022-06-29T10:31:45.977Z"
   },
   {
    "duration": 179,
    "start_time": "2022-06-29T10:31:46.175Z"
   },
   {
    "duration": 199,
    "start_time": "2022-06-29T10:31:46.355Z"
   },
   {
    "duration": 135,
    "start_time": "2022-06-29T10:31:46.556Z"
   },
   {
    "duration": 12,
    "start_time": "2022-06-29T10:31:46.693Z"
   },
   {
    "duration": 23,
    "start_time": "2022-06-29T10:31:46.707Z"
   },
   {
    "duration": 167,
    "start_time": "2022-06-29T10:31:46.732Z"
   },
   {
    "duration": 432,
    "start_time": "2022-06-29T10:31:46.901Z"
   },
   {
    "duration": 36,
    "start_time": "2022-06-29T10:31:47.335Z"
   },
   {
    "duration": 2869,
    "start_time": "2022-06-29T10:31:47.373Z"
   },
   {
    "duration": 330,
    "start_time": "2022-06-29T10:31:50.244Z"
   },
   {
    "duration": 128,
    "start_time": "2022-06-29T10:31:50.576Z"
   },
   {
    "duration": 31,
    "start_time": "2022-06-29T10:31:50.706Z"
   },
   {
    "duration": 186,
    "start_time": "2022-06-29T10:31:50.738Z"
   },
   {
    "duration": 151,
    "start_time": "2022-06-29T10:31:50.926Z"
   },
   {
    "duration": 173,
    "start_time": "2022-06-29T10:31:51.079Z"
   },
   {
    "duration": 168,
    "start_time": "2022-06-29T10:31:51.253Z"
   },
   {
    "duration": 225,
    "start_time": "2022-06-29T10:31:51.423Z"
   },
   {
    "duration": 172,
    "start_time": "2022-06-29T10:31:51.650Z"
   },
   {
    "duration": 368,
    "start_time": "2022-06-29T10:31:51.824Z"
   },
   {
    "duration": 832,
    "start_time": "2022-06-29T10:31:52.194Z"
   },
   {
    "duration": 514,
    "start_time": "2022-06-29T10:31:53.028Z"
   },
   {
    "duration": 31,
    "start_time": "2022-06-29T10:31:53.546Z"
   },
   {
    "duration": 494384,
    "start_time": "2022-06-29T10:32:04.290Z"
   },
   {
    "duration": 148136,
    "start_time": "2022-06-29T10:51:42.921Z"
   },
   {
    "duration": 135283,
    "start_time": "2022-06-29T10:57:24.270Z"
   },
   {
    "duration": 107253,
    "start_time": "2022-06-29T11:30:49.364Z"
   },
   {
    "duration": 4,
    "start_time": "2022-06-29T11:32:52.862Z"
   },
   {
    "duration": 1417,
    "start_time": "2022-06-29T11:33:17.212Z"
   },
   {
    "duration": 754,
    "start_time": "2022-06-29T11:33:18.631Z"
   },
   {
    "duration": 4,
    "start_time": "2022-06-29T11:33:19.387Z"
   },
   {
    "duration": 1590,
    "start_time": "2022-06-29T11:33:19.393Z"
   },
   {
    "duration": 40,
    "start_time": "2022-06-29T11:33:20.986Z"
   },
   {
    "duration": 3,
    "start_time": "2022-06-29T11:33:21.028Z"
   },
   {
    "duration": 21,
    "start_time": "2022-06-29T11:33:21.033Z"
   },
   {
    "duration": 34,
    "start_time": "2022-06-29T11:33:21.056Z"
   },
   {
    "duration": 2216,
    "start_time": "2022-06-29T11:33:21.091Z"
   },
   {
    "duration": 135,
    "start_time": "2022-06-29T11:33:23.309Z"
   },
   {
    "duration": 167,
    "start_time": "2022-06-29T11:33:23.446Z"
   },
   {
    "duration": 133,
    "start_time": "2022-06-29T11:33:23.615Z"
   },
   {
    "duration": 73,
    "start_time": "2022-06-29T11:33:23.751Z"
   },
   {
    "duration": 5,
    "start_time": "2022-06-29T11:33:23.827Z"
   },
   {
    "duration": 23,
    "start_time": "2022-06-29T11:33:23.833Z"
   },
   {
    "duration": 99,
    "start_time": "2022-06-29T11:33:23.857Z"
   },
   {
    "duration": 192,
    "start_time": "2022-06-29T11:33:23.957Z"
   },
   {
    "duration": 152,
    "start_time": "2022-06-29T11:33:24.150Z"
   },
   {
    "duration": 195,
    "start_time": "2022-06-29T11:33:24.303Z"
   },
   {
    "duration": 170,
    "start_time": "2022-06-29T11:33:24.499Z"
   },
   {
    "duration": 213,
    "start_time": "2022-06-29T11:33:24.671Z"
   },
   {
    "duration": 149,
    "start_time": "2022-06-29T11:33:24.886Z"
   },
   {
    "duration": 18,
    "start_time": "2022-06-29T11:33:25.037Z"
   },
   {
    "duration": 28,
    "start_time": "2022-06-29T11:33:25.056Z"
   },
   {
    "duration": 203,
    "start_time": "2022-06-29T11:33:25.086Z"
   },
   {
    "duration": 500,
    "start_time": "2022-06-29T11:33:25.291Z"
   },
   {
    "duration": 35,
    "start_time": "2022-06-29T11:33:25.793Z"
   },
   {
    "duration": 3002,
    "start_time": "2022-06-29T11:33:25.830Z"
   },
   {
    "duration": 345,
    "start_time": "2022-06-29T11:33:28.834Z"
   },
   {
    "duration": 137,
    "start_time": "2022-06-29T11:33:29.181Z"
   },
   {
    "duration": 46,
    "start_time": "2022-06-29T11:33:29.320Z"
   },
   {
    "duration": 179,
    "start_time": "2022-06-29T11:33:29.368Z"
   },
   {
    "duration": 149,
    "start_time": "2022-06-29T11:33:29.552Z"
   },
   {
    "duration": 178,
    "start_time": "2022-06-29T11:33:29.703Z"
   },
   {
    "duration": 189,
    "start_time": "2022-06-29T11:33:29.882Z"
   },
   {
    "duration": 232,
    "start_time": "2022-06-29T11:33:30.072Z"
   },
   {
    "duration": 187,
    "start_time": "2022-06-29T11:33:30.306Z"
   },
   {
    "duration": 391,
    "start_time": "2022-06-29T11:33:30.495Z"
   },
   {
    "duration": 859,
    "start_time": "2022-06-29T11:33:30.888Z"
   },
   {
    "duration": 524,
    "start_time": "2022-06-29T11:33:31.748Z"
   },
   {
    "duration": 1487,
    "start_time": "2022-06-29T11:34:39.588Z"
   },
   {
    "duration": 749,
    "start_time": "2022-06-29T11:34:41.077Z"
   },
   {
    "duration": 5,
    "start_time": "2022-06-29T11:34:41.828Z"
   },
   {
    "duration": 1592,
    "start_time": "2022-06-29T11:34:41.835Z"
   },
   {
    "duration": 50,
    "start_time": "2022-06-29T11:34:43.430Z"
   },
   {
    "duration": 4,
    "start_time": "2022-06-29T11:34:43.481Z"
   },
   {
    "duration": 37,
    "start_time": "2022-06-29T11:34:43.487Z"
   },
   {
    "duration": 42,
    "start_time": "2022-06-29T11:34:43.526Z"
   },
   {
    "duration": 2232,
    "start_time": "2022-06-29T11:34:43.570Z"
   },
   {
    "duration": 148,
    "start_time": "2022-06-29T11:34:45.804Z"
   },
   {
    "duration": 170,
    "start_time": "2022-06-29T11:34:45.954Z"
   },
   {
    "duration": 153,
    "start_time": "2022-06-29T11:34:46.126Z"
   },
   {
    "duration": 79,
    "start_time": "2022-06-29T11:34:46.281Z"
   },
   {
    "duration": 4,
    "start_time": "2022-06-29T11:34:46.363Z"
   },
   {
    "duration": 7,
    "start_time": "2022-06-29T11:34:46.369Z"
   },
   {
    "duration": 83,
    "start_time": "2022-06-29T11:34:46.378Z"
   },
   {
    "duration": 193,
    "start_time": "2022-06-29T11:34:46.463Z"
   },
   {
    "duration": 140,
    "start_time": "2022-06-29T11:34:46.658Z"
   },
   {
    "duration": 199,
    "start_time": "2022-06-29T11:34:46.799Z"
   },
   {
    "duration": 180,
    "start_time": "2022-06-29T11:34:46.999Z"
   },
   {
    "duration": 207,
    "start_time": "2022-06-29T11:34:47.181Z"
   },
   {
    "duration": 141,
    "start_time": "2022-06-29T11:34:47.389Z"
   },
   {
    "duration": 12,
    "start_time": "2022-06-29T11:34:47.531Z"
   },
   {
    "duration": 24,
    "start_time": "2022-06-29T11:34:47.552Z"
   },
   {
    "duration": 154,
    "start_time": "2022-06-29T11:34:47.578Z"
   },
   {
    "duration": 448,
    "start_time": "2022-06-29T11:34:47.734Z"
   },
   {
    "duration": 33,
    "start_time": "2022-06-29T11:34:48.184Z"
   },
   {
    "duration": 2994,
    "start_time": "2022-06-29T11:34:48.219Z"
   },
   {
    "duration": 348,
    "start_time": "2022-06-29T11:34:51.215Z"
   },
   {
    "duration": 138,
    "start_time": "2022-06-29T11:34:51.564Z"
   },
   {
    "duration": 31,
    "start_time": "2022-06-29T11:34:51.704Z"
   },
   {
    "duration": 206,
    "start_time": "2022-06-29T11:34:51.736Z"
   },
   {
    "duration": 151,
    "start_time": "2022-06-29T11:34:51.944Z"
   },
   {
    "duration": 188,
    "start_time": "2022-06-29T11:34:52.096Z"
   },
   {
    "duration": 179,
    "start_time": "2022-06-29T11:34:52.286Z"
   },
   {
    "duration": 266,
    "start_time": "2022-06-29T11:34:52.466Z"
   },
   {
    "duration": 176,
    "start_time": "2022-06-29T11:34:52.734Z"
   },
   {
    "duration": 367,
    "start_time": "2022-06-29T11:34:52.912Z"
   },
   {
    "duration": 822,
    "start_time": "2022-06-29T11:34:53.281Z"
   },
   {
    "duration": 520,
    "start_time": "2022-06-29T11:34:54.104Z"
   },
   {
    "duration": 135089,
    "start_time": "2022-06-29T11:34:54.628Z"
   },
   {
    "duration": 31,
    "start_time": "2022-06-29T11:37:09.718Z"
   },
   {
    "duration": 1521,
    "start_time": "2022-06-29T11:38:46.648Z"
   },
   {
    "duration": 777,
    "start_time": "2022-06-29T11:38:48.172Z"
   },
   {
    "duration": 4,
    "start_time": "2022-06-29T11:38:48.951Z"
   },
   {
    "duration": 1580,
    "start_time": "2022-06-29T11:38:48.956Z"
   },
   {
    "duration": 47,
    "start_time": "2022-06-29T11:38:50.539Z"
   },
   {
    "duration": 4,
    "start_time": "2022-06-29T11:38:50.587Z"
   },
   {
    "duration": 10,
    "start_time": "2022-06-29T11:38:50.592Z"
   },
   {
    "duration": 28,
    "start_time": "2022-06-29T11:38:50.603Z"
   },
   {
    "duration": 2159,
    "start_time": "2022-06-29T11:38:50.633Z"
   },
   {
    "duration": 133,
    "start_time": "2022-06-29T11:38:52.793Z"
   },
   {
    "duration": 169,
    "start_time": "2022-06-29T11:38:52.928Z"
   },
   {
    "duration": 134,
    "start_time": "2022-06-29T11:38:53.099Z"
   },
   {
    "duration": 84,
    "start_time": "2022-06-29T11:38:53.235Z"
   },
   {
    "duration": 4,
    "start_time": "2022-06-29T11:38:53.322Z"
   },
   {
    "duration": 7,
    "start_time": "2022-06-29T11:38:53.327Z"
   },
   {
    "duration": 83,
    "start_time": "2022-06-29T11:38:53.336Z"
   },
   {
    "duration": 188,
    "start_time": "2022-06-29T11:38:53.420Z"
   },
   {
    "duration": 148,
    "start_time": "2022-06-29T11:38:53.609Z"
   },
   {
    "duration": 196,
    "start_time": "2022-06-29T11:38:53.759Z"
   },
   {
    "duration": 178,
    "start_time": "2022-06-29T11:38:53.957Z"
   },
   {
    "duration": 220,
    "start_time": "2022-06-29T11:38:54.137Z"
   },
   {
    "duration": 138,
    "start_time": "2022-06-29T11:38:54.359Z"
   },
   {
    "duration": 13,
    "start_time": "2022-06-29T11:38:54.499Z"
   },
   {
    "duration": 41,
    "start_time": "2022-06-29T11:38:54.513Z"
   },
   {
    "duration": 173,
    "start_time": "2022-06-29T11:38:54.556Z"
   },
   {
    "duration": 465,
    "start_time": "2022-06-29T11:38:54.731Z"
   },
   {
    "duration": 54,
    "start_time": "2022-06-29T11:38:55.198Z"
   },
   {
    "duration": 3158,
    "start_time": "2022-06-29T11:38:55.255Z"
   },
   {
    "duration": 379,
    "start_time": "2022-06-29T11:38:58.414Z"
   },
   {
    "duration": 151,
    "start_time": "2022-06-29T11:38:58.794Z"
   },
   {
    "duration": 33,
    "start_time": "2022-06-29T11:38:58.952Z"
   },
   {
    "duration": 214,
    "start_time": "2022-06-29T11:38:58.986Z"
   },
   {
    "duration": 175,
    "start_time": "2022-06-29T11:38:59.201Z"
   },
   {
    "duration": 200,
    "start_time": "2022-06-29T11:38:59.378Z"
   },
   {
    "duration": 218,
    "start_time": "2022-06-29T11:38:59.580Z"
   },
   {
    "duration": 252,
    "start_time": "2022-06-29T11:38:59.800Z"
   },
   {
    "duration": 208,
    "start_time": "2022-06-29T11:39:00.054Z"
   },
   {
    "duration": 370,
    "start_time": "2022-06-29T11:39:00.267Z"
   },
   {
    "duration": 884,
    "start_time": "2022-06-29T11:39:00.639Z"
   },
   {
    "duration": 556,
    "start_time": "2022-06-29T11:39:01.525Z"
   },
   {
    "duration": 1548,
    "start_time": "2022-06-29T11:49:24.184Z"
   },
   {
    "duration": 833,
    "start_time": "2022-06-29T11:49:25.734Z"
   },
   {
    "duration": 4,
    "start_time": "2022-06-29T11:49:26.572Z"
   },
   {
    "duration": 1746,
    "start_time": "2022-06-29T11:49:26.579Z"
   },
   {
    "duration": 51,
    "start_time": "2022-06-29T11:49:28.328Z"
   },
   {
    "duration": 4,
    "start_time": "2022-06-29T11:49:28.381Z"
   },
   {
    "duration": 8,
    "start_time": "2022-06-29T11:49:28.387Z"
   },
   {
    "duration": 30,
    "start_time": "2022-06-29T11:49:28.397Z"
   },
   {
    "duration": 2318,
    "start_time": "2022-06-29T11:49:28.429Z"
   },
   {
    "duration": 132,
    "start_time": "2022-06-29T11:49:30.749Z"
   },
   {
    "duration": 177,
    "start_time": "2022-06-29T11:49:30.883Z"
   },
   {
    "duration": 151,
    "start_time": "2022-06-29T11:49:31.062Z"
   },
   {
    "duration": 76,
    "start_time": "2022-06-29T11:49:31.217Z"
   },
   {
    "duration": 27,
    "start_time": "2022-06-29T11:49:31.295Z"
   },
   {
    "duration": 27,
    "start_time": "2022-06-29T11:49:31.324Z"
   },
   {
    "duration": 84,
    "start_time": "2022-06-29T11:49:31.353Z"
   },
   {
    "duration": 182,
    "start_time": "2022-06-29T11:49:31.439Z"
   },
   {
    "duration": 168,
    "start_time": "2022-06-29T11:49:31.623Z"
   },
   {
    "duration": 215,
    "start_time": "2022-06-29T11:49:31.793Z"
   },
   {
    "duration": 186,
    "start_time": "2022-06-29T11:49:32.010Z"
   },
   {
    "duration": 233,
    "start_time": "2022-06-29T11:49:32.198Z"
   },
   {
    "duration": 220,
    "start_time": "2022-06-29T11:49:32.433Z"
   },
   {
    "duration": 14,
    "start_time": "2022-06-29T11:49:32.655Z"
   },
   {
    "duration": 29,
    "start_time": "2022-06-29T11:49:32.671Z"
   },
   {
    "duration": 177,
    "start_time": "2022-06-29T11:49:32.702Z"
   },
   {
    "duration": 491,
    "start_time": "2022-06-29T11:49:32.881Z"
   },
   {
    "duration": 37,
    "start_time": "2022-06-29T11:49:33.374Z"
   },
   {
    "duration": 3118,
    "start_time": "2022-06-29T11:49:33.412Z"
   },
   {
    "duration": 371,
    "start_time": "2022-06-29T11:49:36.532Z"
   },
   {
    "duration": 176,
    "start_time": "2022-06-29T11:49:36.905Z"
   },
   {
    "duration": 45,
    "start_time": "2022-06-29T11:49:37.083Z"
   },
   {
    "duration": 237,
    "start_time": "2022-06-29T11:49:37.130Z"
   },
   {
    "duration": 182,
    "start_time": "2022-06-29T11:49:37.370Z"
   },
   {
    "duration": 188,
    "start_time": "2022-06-29T11:49:37.554Z"
   },
   {
    "duration": 195,
    "start_time": "2022-06-29T11:49:37.744Z"
   },
   {
    "duration": 274,
    "start_time": "2022-06-29T11:49:37.942Z"
   },
   {
    "duration": 199,
    "start_time": "2022-06-29T11:49:38.220Z"
   },
   {
    "duration": 384,
    "start_time": "2022-06-29T11:49:38.421Z"
   },
   {
    "duration": 1057,
    "start_time": "2022-06-29T11:49:38.807Z"
   },
   {
    "duration": 556,
    "start_time": "2022-06-29T11:49:39.868Z"
   },
   {
    "duration": 1437,
    "start_time": "2022-06-29T11:50:22.974Z"
   },
   {
    "duration": 766,
    "start_time": "2022-06-29T11:50:24.413Z"
   },
   {
    "duration": 6,
    "start_time": "2022-06-29T11:50:25.182Z"
   },
   {
    "duration": 1564,
    "start_time": "2022-06-29T11:50:25.190Z"
   },
   {
    "duration": 42,
    "start_time": "2022-06-29T11:50:26.756Z"
   },
   {
    "duration": 3,
    "start_time": "2022-06-29T11:50:26.801Z"
   },
   {
    "duration": 28,
    "start_time": "2022-06-29T11:50:26.806Z"
   },
   {
    "duration": 35,
    "start_time": "2022-06-29T11:50:26.836Z"
   },
   {
    "duration": 2179,
    "start_time": "2022-06-29T11:50:26.873Z"
   },
   {
    "duration": 136,
    "start_time": "2022-06-29T11:50:29.054Z"
   },
   {
    "duration": 163,
    "start_time": "2022-06-29T11:50:29.192Z"
   },
   {
    "duration": 139,
    "start_time": "2022-06-29T11:50:29.357Z"
   },
   {
    "duration": 75,
    "start_time": "2022-06-29T11:50:29.498Z"
   },
   {
    "duration": 4,
    "start_time": "2022-06-29T11:50:29.576Z"
   },
   {
    "duration": 6,
    "start_time": "2022-06-29T11:50:29.582Z"
   },
   {
    "duration": 103,
    "start_time": "2022-06-29T11:50:29.589Z"
   },
   {
    "duration": 193,
    "start_time": "2022-06-29T11:50:29.694Z"
   },
   {
    "duration": 159,
    "start_time": "2022-06-29T11:50:29.888Z"
   },
   {
    "duration": 208,
    "start_time": "2022-06-29T11:50:30.049Z"
   },
   {
    "duration": 183,
    "start_time": "2022-06-29T11:50:30.258Z"
   },
   {
    "duration": 225,
    "start_time": "2022-06-29T11:50:30.443Z"
   },
   {
    "duration": 162,
    "start_time": "2022-06-29T11:50:30.670Z"
   },
   {
    "duration": 23,
    "start_time": "2022-06-29T11:50:30.834Z"
   },
   {
    "duration": 40,
    "start_time": "2022-06-29T11:50:30.859Z"
   },
   {
    "duration": 182,
    "start_time": "2022-06-29T11:50:30.902Z"
   },
   {
    "duration": 477,
    "start_time": "2022-06-29T11:50:31.085Z"
   },
   {
    "duration": 33,
    "start_time": "2022-06-29T11:50:31.564Z"
   },
   {
    "duration": 3218,
    "start_time": "2022-06-29T11:50:31.598Z"
   },
   {
    "duration": 352,
    "start_time": "2022-06-29T11:50:34.818Z"
   },
   {
    "duration": 180,
    "start_time": "2022-06-29T11:50:35.174Z"
   },
   {
    "duration": 32,
    "start_time": "2022-06-29T11:50:35.356Z"
   },
   {
    "duration": 237,
    "start_time": "2022-06-29T11:50:35.390Z"
   },
   {
    "duration": 187,
    "start_time": "2022-06-29T11:50:35.630Z"
   },
   {
    "duration": 175,
    "start_time": "2022-06-29T11:50:35.819Z"
   },
   {
    "duration": 202,
    "start_time": "2022-06-29T11:50:35.996Z"
   },
   {
    "duration": 227,
    "start_time": "2022-06-29T11:50:36.201Z"
   },
   {
    "duration": 180,
    "start_time": "2022-06-29T11:50:36.430Z"
   },
   {
    "duration": 387,
    "start_time": "2022-06-29T11:50:36.612Z"
   },
   {
    "duration": 969,
    "start_time": "2022-06-29T11:50:37.001Z"
   },
   {
    "duration": 536,
    "start_time": "2022-06-29T11:50:37.971Z"
   },
   {
    "duration": 284160,
    "start_time": "2022-06-29T11:50:38.510Z"
   },
   {
    "duration": 116,
    "start_time": "2022-06-29T11:55:22.673Z"
   },
   {
    "duration": 14335,
    "start_time": "2022-06-29T11:55:51.031Z"
   },
   {
    "duration": 12808,
    "start_time": "2022-06-29T11:56:22.468Z"
   },
   {
    "duration": 286153,
    "start_time": "2022-06-29T12:02:46.905Z"
   },
   {
    "duration": 1417,
    "start_time": "2022-06-29T12:12:47.104Z"
   },
   {
    "duration": 787,
    "start_time": "2022-06-29T12:12:48.524Z"
   },
   {
    "duration": 4,
    "start_time": "2022-06-29T12:12:49.313Z"
   },
   {
    "duration": 1571,
    "start_time": "2022-06-29T12:12:49.319Z"
   },
   {
    "duration": 45,
    "start_time": "2022-06-29T12:12:50.892Z"
   },
   {
    "duration": 17,
    "start_time": "2022-06-29T12:12:50.939Z"
   },
   {
    "duration": 12,
    "start_time": "2022-06-29T12:12:50.958Z"
   },
   {
    "duration": 22,
    "start_time": "2022-06-29T12:12:50.972Z"
   },
   {
    "duration": 2224,
    "start_time": "2022-06-29T12:12:50.996Z"
   },
   {
    "duration": 143,
    "start_time": "2022-06-29T12:12:53.222Z"
   },
   {
    "duration": 167,
    "start_time": "2022-06-29T12:12:53.367Z"
   },
   {
    "duration": 133,
    "start_time": "2022-06-29T12:12:53.536Z"
   },
   {
    "duration": 88,
    "start_time": "2022-06-29T12:12:53.670Z"
   },
   {
    "duration": 3,
    "start_time": "2022-06-29T12:12:53.761Z"
   },
   {
    "duration": 6,
    "start_time": "2022-06-29T12:12:53.766Z"
   },
   {
    "duration": 90,
    "start_time": "2022-06-29T12:12:53.774Z"
   },
   {
    "duration": 200,
    "start_time": "2022-06-29T12:12:53.865Z"
   },
   {
    "duration": 149,
    "start_time": "2022-06-29T12:12:54.066Z"
   },
   {
    "duration": 226,
    "start_time": "2022-06-29T12:12:54.217Z"
   },
   {
    "duration": 230,
    "start_time": "2022-06-29T12:12:54.445Z"
   },
   {
    "duration": 220,
    "start_time": "2022-06-29T12:12:54.677Z"
   },
   {
    "duration": 153,
    "start_time": "2022-06-29T12:12:54.899Z"
   },
   {
    "duration": 13,
    "start_time": "2022-06-29T12:12:55.054Z"
   },
   {
    "duration": 27,
    "start_time": "2022-06-29T12:12:55.069Z"
   },
   {
    "duration": 193,
    "start_time": "2022-06-29T12:12:55.098Z"
   },
   {
    "duration": 520,
    "start_time": "2022-06-29T12:12:55.294Z"
   },
   {
    "duration": 40,
    "start_time": "2022-06-29T12:12:55.815Z"
   },
   {
    "duration": 3181,
    "start_time": "2022-06-29T12:12:55.857Z"
   },
   {
    "duration": 393,
    "start_time": "2022-06-29T12:12:59.040Z"
   },
   {
    "duration": 147,
    "start_time": "2022-06-29T12:12:59.436Z"
   },
   {
    "duration": 28,
    "start_time": "2022-06-29T12:12:59.585Z"
   },
   {
    "duration": 197,
    "start_time": "2022-06-29T12:12:59.615Z"
   },
   {
    "duration": 159,
    "start_time": "2022-06-29T12:12:59.813Z"
   },
   {
    "duration": 181,
    "start_time": "2022-06-29T12:12:59.974Z"
   },
   {
    "duration": 183,
    "start_time": "2022-06-29T12:13:00.157Z"
   },
   {
    "duration": 238,
    "start_time": "2022-06-29T12:13:00.342Z"
   },
   {
    "duration": 192,
    "start_time": "2022-06-29T12:13:00.582Z"
   },
   {
    "duration": 348,
    "start_time": "2022-06-29T12:13:00.776Z"
   },
   {
    "duration": 920,
    "start_time": "2022-06-29T12:13:01.126Z"
   },
   {
    "duration": 540,
    "start_time": "2022-06-29T12:13:02.047Z"
   },
   {
    "duration": 15532,
    "start_time": "2022-06-29T12:13:02.592Z"
   },
   {
    "duration": 61,
    "start_time": "2022-06-29T12:13:18.127Z"
   },
   {
    "duration": 1930,
    "start_time": "2022-06-29T12:13:18.190Z"
   }
  ],
  "kernelspec": {
   "display_name": "Python 3 (ipykernel)",
   "language": "python",
   "name": "python3"
  },
  "language_info": {
   "codemirror_mode": {
    "name": "ipython",
    "version": 3
   },
   "file_extension": ".py",
   "mimetype": "text/x-python",
   "name": "python",
   "nbconvert_exporter": "python",
   "pygments_lexer": "ipython3",
   "version": "3.10.8"
  },
  "toc": {
   "base_numbering": 1,
   "nav_menu": {},
   "number_sections": false,
   "sideBar": true,
   "skip_h1_title": true,
   "title_cell": "Table of Contents",
   "title_sidebar": "Contents",
   "toc_cell": true,
   "toc_position": {
    "height": "calc(100% - 180px)",
    "left": "10px",
    "top": "150px",
    "width": "165px"
   },
   "toc_section_display": true,
   "toc_window_display": true
  }
 },
 "nbformat": 4,
 "nbformat_minor": 2
}
